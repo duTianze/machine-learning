{
  "nbformat": 4,
  "nbformat_minor": 0,
  "metadata": {
    "colab": {
      "name": "Untitled0.ipynb",
      "version": "0.3.2",
      "provenance": [],
      "include_colab_link": true
    },
    "kernelspec": {
      "name": "python3",
      "display_name": "Python 3"
    },
    "accelerator": "GPU"
  },
  "cells": [
    {
      "cell_type": "markdown",
      "metadata": {
        "id": "view-in-github",
        "colab_type": "text"
      },
      "source": [
        "<a href=\"https://colab.research.google.com/github/duTianze/machine-learning/blob/master/process_data.ipynb\" target=\"_parent\"><img src=\"https://colab.research.google.com/assets/colab-badge.svg\" alt=\"Open In Colab\"/></a>"
      ]
    },
    {
      "metadata": {
        "id": "jCcoJhaw7EEH",
        "colab_type": "code",
        "outputId": "2034e066-46e4-49a2-b301-4ce59edec596",
        "colab": {
          "base_uri": "https://localhost:8080/",
          "height": 224
        }
      },
      "cell_type": "code",
      "source": [
        "!pip3 install kaggle"
      ],
      "execution_count": 1,
      "outputs": [
        {
          "output_type": "stream",
          "text": [
            "Requirement already satisfied: kaggle in /usr/local/lib/python3.6/dist-packages (1.5.3)\n",
            "Requirement already satisfied: urllib3<1.25,>=1.21.1 in /usr/local/lib/python3.6/dist-packages (from kaggle) (1.22)\n",
            "Requirement already satisfied: six>=1.10 in /usr/local/lib/python3.6/dist-packages (from kaggle) (1.11.0)\n",
            "Requirement already satisfied: certifi in /usr/local/lib/python3.6/dist-packages (from kaggle) (2019.3.9)\n",
            "Requirement already satisfied: python-dateutil in /usr/local/lib/python3.6/dist-packages (from kaggle) (2.5.3)\n",
            "Requirement already satisfied: requests in /usr/local/lib/python3.6/dist-packages (from kaggle) (2.18.4)\n",
            "Requirement already satisfied: tqdm in /usr/local/lib/python3.6/dist-packages (from kaggle) (4.28.1)\n",
            "Requirement already satisfied: python-slugify in /usr/local/lib/python3.6/dist-packages (from kaggle) (3.0.0)\n",
            "Requirement already satisfied: idna<2.7,>=2.5 in /usr/local/lib/python3.6/dist-packages (from requests->kaggle) (2.6)\n",
            "Requirement already satisfied: chardet<3.1.0,>=3.0.2 in /usr/local/lib/python3.6/dist-packages (from requests->kaggle) (3.0.4)\n",
            "Requirement already satisfied: text-unidecode==1.2 in /usr/local/lib/python3.6/dist-packages (from python-slugify->kaggle) (1.2)\n"
          ],
          "name": "stdout"
        }
      ]
    },
    {
      "metadata": {
        "id": "ztEhmSzzRu1N",
        "colab_type": "code",
        "outputId": "1dea8864-6618-42b4-add6-2426f45edda0",
        "colab": {
          "base_uri": "https://localhost:8080/",
          "height": 289
        }
      },
      "cell_type": "code",
      "source": [
        "!kaggle"
      ],
      "execution_count": 2,
      "outputs": [
        {
          "output_type": "stream",
          "text": [
            "Traceback (most recent call last):\n",
            "  File \"/usr/local/bin/kaggle\", line 11, in <module>\n",
            "    load_entry_point('kaggle==1.5.3', 'console_scripts', 'kaggle')()\n",
            "  File \"/usr/local/lib/python2.7/dist-packages/pkg_resources/__init__.py\", line 489, in load_entry_point\n",
            "    return get_distribution(dist).load_entry_point(group, name)\n",
            "  File \"/usr/local/lib/python2.7/dist-packages/pkg_resources/__init__.py\", line 2793, in load_entry_point\n",
            "    return ep.load()\n",
            "  File \"/usr/local/lib/python2.7/dist-packages/pkg_resources/__init__.py\", line 2411, in load\n",
            "    return self.resolve()\n",
            "  File \"/usr/local/lib/python2.7/dist-packages/pkg_resources/__init__.py\", line 2417, in resolve\n",
            "    module = __import__(self.module_name, fromlist=['__name__'], level=0)\n",
            "  File \"/usr/local/lib/python2.7/dist-packages/kaggle/__init__.py\", line 23, in <module>\n",
            "    api.authenticate()\n",
            "  File \"/usr/local/lib/python2.7/dist-packages/kaggle/api/kaggle_api_extended.py\", line 116, in authenticate\n",
            "    self.config_file, self.config_dir))\n",
            "IOError: Could not find kaggle.json. Make sure it's located in /root/.kaggle. Or use the environment method.\n"
          ],
          "name": "stdout"
        }
      ]
    },
    {
      "metadata": {
        "id": "QU95RReN7TCi",
        "colab_type": "code",
        "colab": {}
      },
      "cell_type": "code",
      "source": [
        "!echo \"{\\\"username\\\":\\\"dutianze\\\",\\\"key\\\":\\\"ff2944c6219d449b37460827c4414422\\\"}\" > /root/.kaggle/kaggle.json"
      ],
      "execution_count": 0,
      "outputs": []
    },
    {
      "metadata": {
        "id": "2J-5-0HN7r_p",
        "colab_type": "code",
        "outputId": "e6297cff-319d-43bd-8e1a-cc8638673b1b",
        "colab": {
          "base_uri": "https://localhost:8080/",
          "height": 34
        }
      },
      "cell_type": "code",
      "source": [
        "!more /root/.kaggle/kaggle.json"
      ],
      "execution_count": 4,
      "outputs": [
        {
          "output_type": "stream",
          "text": [
            "{\"username\":\"dutianze\",\"key\":\"ff2944c6219d449b37460827c4414422\"}\n"
          ],
          "name": "stdout"
        }
      ]
    },
    {
      "metadata": {
        "id": "6SIaVjQ28Rzl",
        "colab_type": "code",
        "outputId": "f7e1d4ea-4707-4fdc-da5d-bb01f1fc6fa9",
        "colab": {
          "base_uri": "https://localhost:8080/",
          "height": 819
        }
      },
      "cell_type": "code",
      "source": [
        "!kaggle competitions download diabetic-retinopathy-detection"
      ],
      "execution_count": 5,
      "outputs": [
        {
          "output_type": "stream",
          "text": [
            "Warning: Your Kaggle API key is readable by other users on this system! To fix this, you can run 'chmod 600 /root/.kaggle/kaggle.json'\n",
            "Downloading trainLabels.csv.zip to /content\n",
            "  0% 0.00/69.4k [00:00<?, ?B/s]\n",
            "100% 69.4k/69.4k [00:00<00:00, 56.6MB/s]\n",
            "Downloading sampleSubmission.csv.zip to /content\n",
            "  0% 0.00/81.6k [00:00<?, ?B/s]\n",
            "100% 81.6k/81.6k [00:00<00:00, 69.5MB/s]\n",
            "Downloading sample.zip to /content\n",
            " 48% 5.00M/10.4M [00:00<00:00, 15.8MB/s]\n",
            "100% 10.4M/10.4M [00:00<00:00, 26.3MB/s]\n",
            "Downloading train.zip.004 to /content\n",
            "100% 7.81G/7.81G [02:34<00:00, 54.5MB/s]\n",
            "100% 7.81G/7.81G [02:34<00:00, 54.3MB/s]\n",
            "Downloading train.zip.002 to /content\n",
            "100% 7.81G/7.81G [02:35<00:00, 48.4MB/s]\n",
            "100% 7.81G/7.81G [02:35<00:00, 53.9MB/s]\n",
            "Downloading train.zip.001 to /content\n",
            "100% 7.81G/7.81G [02:43<00:00, 45.0MB/s]\n",
            "100% 7.81G/7.81G [02:43<00:00, 51.4MB/s]\n",
            "Downloading train.zip.005 to /content\n",
            " 99% 1.33G/1.34G [00:25<00:00, 45.5MB/s]\n",
            "100% 1.34G/1.34G [00:25<00:00, 56.0MB/s]\n",
            "Downloading train.zip.003 to /content\n",
            "100% 7.81G/7.81G [02:41<00:00, 53.5MB/s]\n",
            "100% 7.81G/7.81G [02:41<00:00, 52.0MB/s]\n",
            "Downloading test.zip.004 to /content\n",
            "100% 7.81G/7.81G [02:34<00:00, 50.4MB/s]\n",
            "100% 7.81G/7.81G [02:34<00:00, 54.4MB/s]\n",
            "Downloading test.zip.005 to /content\n",
            "100% 7.81G/7.81G [02:36<00:00, 64.4MB/s]\n",
            "100% 7.81G/7.81G [02:37<00:00, 53.4MB/s]\n",
            "Downloading test.zip.002 to /content\n",
            "100% 7.80G/7.81G [02:39<00:00, 52.5MB/s]\n",
            "100% 7.81G/7.81G [02:39<00:00, 52.7MB/s]\n",
            "Downloading test.zip.003 to /content\n",
            "100% 7.80G/7.81G [02:30<00:00, 38.0MB/s]\n",
            "100% 7.81G/7.81G [02:30<00:00, 55.6MB/s]\n",
            "Downloading test.zip.001 to /content\n",
            "100% 7.80G/7.81G [02:33<00:00, 28.3MB/s]\n",
            "100% 7.81G/7.81G [02:33<00:00, 54.5MB/s]\n",
            "Downloading test.zip.006 to /content\n",
            "100% 7.81G/7.81G [02:34<00:00, 46.4MB/s]\n",
            "100% 7.81G/7.81G [02:35<00:00, 54.1MB/s]\n",
            "Downloading test.zip.007 to /content\n",
            "100% 2.75G/2.75G [00:59<00:00, 42.8MB/s]\n",
            "100% 2.75G/2.75G [00:59<00:00, 49.3MB/s]\n"
          ],
          "name": "stdout"
        }
      ]
    },
    {
      "metadata": {
        "id": "ezPZrLOHEge0",
        "colab_type": "code",
        "outputId": "fdeb6230-c8dd-436b-a11c-c04008284494",
        "colab": {
          "base_uri": "https://localhost:8080/",
          "height": 153
        }
      },
      "cell_type": "code",
      "source": [
        "!apt-get install zip"
      ],
      "execution_count": 6,
      "outputs": [
        {
          "output_type": "stream",
          "text": [
            "Reading package lists... Done\n",
            "Building dependency tree       \n",
            "Reading state information... Done\n",
            "zip is already the newest version (3.0-11build1).\n",
            "The following package was automatically installed and is no longer required:\n",
            "  libnvidia-common-410\n",
            "Use 'apt autoremove' to remove it.\n",
            "0 upgraded, 0 newly installed, 0 to remove and 10 not upgraded.\n"
          ],
          "name": "stdout"
        }
      ]
    },
    {
      "metadata": {
        "id": "T3Ae77doDr7T",
        "colab_type": "code",
        "colab": {}
      },
      "cell_type": "code",
      "source": [
        "!cat train.zip* > train.zip"
      ],
      "execution_count": 0,
      "outputs": []
    },
    {
      "metadata": {
        "id": "n-8A5CyzJ21t",
        "colab_type": "code",
        "colab": {}
      },
      "cell_type": "code",
      "source": [
        "!cat test.zip* > test.zip"
      ],
      "execution_count": 0,
      "outputs": []
    },
    {
      "metadata": {
        "id": "x0azZuwyWKih",
        "colab_type": "code",
        "colab": {}
      },
      "cell_type": "code",
      "source": [
        "!rm train.zip.0*\n",
        "!rm test.zip.0*"
      ],
      "execution_count": 0,
      "outputs": []
    },
    {
      "metadata": {
        "id": "PrGryoQ3BquN",
        "colab_type": "code",
        "colab": {}
      },
      "cell_type": "code",
      "source": [
        "!rm -rf train"
      ],
      "execution_count": 0,
      "outputs": []
    },
    {
      "metadata": {
        "id": "M_kxjaQWtbXY",
        "colab_type": "code",
        "colab": {}
      },
      "cell_type": "code",
      "source": [
        "!unzip train.zip"
      ],
      "execution_count": 0,
      "outputs": []
    },
    {
      "metadata": {
        "id": "99QJDs0QxCDi",
        "colab_type": "code",
        "colab": {
          "base_uri": "https://localhost:8080/",
          "height": 51
        },
        "outputId": "cf822118-83f2-4c96-a9eb-1dfa44e0cf9f"
      },
      "cell_type": "code",
      "source": [
        "!unzip trainLabels.csv.zip"
      ],
      "execution_count": 14,
      "outputs": [
        {
          "output_type": "stream",
          "text": [
            "Archive:  trainLabels.csv.zip\n",
            "  inflating: trainLabels.csv         \n"
          ],
          "name": "stdout"
        }
      ]
    },
    {
      "metadata": {
        "id": "ZDOEV5c3wUCe",
        "colab_type": "code",
        "colab": {
          "base_uri": "https://localhost:8080/",
          "height": 34
        },
        "outputId": "9e83e1fe-167f-434d-8ba6-a0f46c36cf41"
      },
      "cell_type": "code",
      "source": [
        "!ls -l ./train |grep \"^-\"|wc -l"
      ],
      "execution_count": 50,
      "outputs": [
        {
          "output_type": "stream",
          "text": [
            "35126\n"
          ],
          "name": "stdout"
        }
      ]
    },
    {
      "metadata": {
        "id": "QByn6ciDwkta",
        "colab_type": "code",
        "colab": {}
      },
      "cell_type": "code",
      "source": [
        "import numpy as np # linear algebra\n",
        "import pandas as pd # data processing, CSV file I/O (e.g. pd.read_csv)\n",
        "import matplotlib.pyplot as plt # showing and rendering figures\n",
        "# io related\n",
        "from skimage.io import imread\n",
        "import os\n",
        "from glob import glob\n",
        "# not needed in Kaggle, but required in Jupyter\n",
        "%matplotlib inline "
      ],
      "execution_count": 0,
      "outputs": []
    },
    {
      "metadata": {
        "id": "JGgiiXdSwwBP",
        "colab_type": "code",
        "colab": {
          "base_uri": "https://localhost:8080/",
          "height": 159
        },
        "outputId": "8cc309e8-9551-4924-fe24-734686f79c7f"
      },
      "cell_type": "code",
      "source": [
        "base_image_dir = os.path.join('./train')\n",
        "retina_df = pd.read_csv(os.path.join('./trainLabels.csv'))\n",
        "retina_df['PatientId'] = retina_df['image'].map(lambda x: x.split('_')[0])\n",
        "retina_df['path'] = retina_df['image'].map(lambda x: os.path.join(base_image_dir,\n",
        "                                                         '{}.jpeg'.format(x)))\n",
        "retina_df['exists'] = retina_df['path'].map(os.path.exists)\n",
        "print(retina_df['exists'].sum(), 'images found of', retina_df.shape[0], 'total')\n",
        "retina_df['eye'] = retina_df['image'].map(lambda x: 1 if x.split('_')[-1]=='left' else 0)\n",
        "\n",
        "retina_df.dropna(inplace = True)\n",
        "retina_df = retina_df[retina_df['exists']]\n",
        "retina_df.sample(3)"
      ],
      "execution_count": 52,
      "outputs": [
        {
          "output_type": "stream",
          "text": [
            "35126 images found of 35126 total\n"
          ],
          "name": "stdout"
        },
        {
          "output_type": "execute_result",
          "data": {
            "text/html": [
              "<div>\n",
              "<style scoped>\n",
              "    .dataframe tbody tr th:only-of-type {\n",
              "        vertical-align: middle;\n",
              "    }\n",
              "\n",
              "    .dataframe tbody tr th {\n",
              "        vertical-align: top;\n",
              "    }\n",
              "\n",
              "    .dataframe thead th {\n",
              "        text-align: right;\n",
              "    }\n",
              "</style>\n",
              "<table border=\"1\" class=\"dataframe\">\n",
              "  <thead>\n",
              "    <tr style=\"text-align: right;\">\n",
              "      <th></th>\n",
              "      <th>image</th>\n",
              "      <th>level</th>\n",
              "      <th>PatientId</th>\n",
              "      <th>path</th>\n",
              "      <th>exists</th>\n",
              "      <th>eye</th>\n",
              "    </tr>\n",
              "  </thead>\n",
              "  <tbody>\n",
              "    <tr>\n",
              "      <th>25815</th>\n",
              "      <td>32668_right</td>\n",
              "      <td>2</td>\n",
              "      <td>32668</td>\n",
              "      <td>./train/32668_right.jpeg</td>\n",
              "      <td>True</td>\n",
              "      <td>0</td>\n",
              "    </tr>\n",
              "    <tr>\n",
              "      <th>8873</th>\n",
              "      <td>11147_right</td>\n",
              "      <td>3</td>\n",
              "      <td>11147</td>\n",
              "      <td>./train/11147_right.jpeg</td>\n",
              "      <td>True</td>\n",
              "      <td>0</td>\n",
              "    </tr>\n",
              "    <tr>\n",
              "      <th>12962</th>\n",
              "      <td>16294_left</td>\n",
              "      <td>2</td>\n",
              "      <td>16294</td>\n",
              "      <td>./train/16294_left.jpeg</td>\n",
              "      <td>True</td>\n",
              "      <td>1</td>\n",
              "    </tr>\n",
              "  </tbody>\n",
              "</table>\n",
              "</div>"
            ],
            "text/plain": [
              "             image  level PatientId                      path  exists  eye\n",
              "25815  32668_right      2     32668  ./train/32668_right.jpeg    True    0\n",
              "8873   11147_right      3     11147  ./train/11147_right.jpeg    True    0\n",
              "12962   16294_left      2     16294   ./train/16294_left.jpeg    True    1"
            ]
          },
          "metadata": {
            "tags": []
          },
          "execution_count": 52
        }
      ]
    },
    {
      "metadata": {
        "id": "MgwbcWrwxzou",
        "colab_type": "code",
        "colab": {
          "base_uri": "https://localhost:8080/",
          "height": 386
        },
        "outputId": "388c79a2-1141-44ac-9137-ab5f18c8f263"
      },
      "cell_type": "code",
      "source": [
        "retina_df[['level', 'eye']].hist(figsize = (10, 5))"
      ],
      "execution_count": 53,
      "outputs": [
        {
          "output_type": "execute_result",
          "data": {
            "text/plain": [
              "array([[<matplotlib.axes._subplots.AxesSubplot object at 0x7fe77fce59b0>,\n",
              "        <matplotlib.axes._subplots.AxesSubplot object at 0x7fe77f0a9320>]],\n",
              "      dtype=object)"
            ]
          },
          "metadata": {
            "tags": []
          },
          "execution_count": 53
        },
        {
          "output_type": "display_data",
          "data": {
            "image/png": "[encoded data removed]",
            "text/plain": [
              "<Figure size 720x360 with 2 Axes>"
            ]
          },
          "metadata": {
            "tags": []
          }
        }
      ]
    },
    {
      "metadata": {
        "id": "W0qWIZYH4oDa",
        "colab_type": "code",
        "colab": {}
      },
      "cell_type": "code",
      "source": [
        "retina_df['level'] = retina_df['level'].map(lambda x: str(x))"
      ],
      "execution_count": 0,
      "outputs": []
    },
    {
      "metadata": {
        "id": "I2SDMlYk0Srb",
        "colab_type": "code",
        "colab": {}
      },
      "cell_type": "code",
      "source": [
        "retina_df['new_path'] = retina_df['path'].str.cat(retina_df['level'], sep='/')"
      ],
      "execution_count": 0,
      "outputs": []
    },
    {
      "metadata": {
        "id": "tyeq1U-748vR",
        "colab_type": "code",
        "colab": {
          "base_uri": "https://localhost:8080/",
          "height": 142
        },
        "outputId": "1691c7a2-48be-4990-8d42-7431d1ff16b2"
      },
      "cell_type": "code",
      "source": [
        "retina_df.sample(3)"
      ],
      "execution_count": 58,
      "outputs": [
        {
          "output_type": "execute_result",
          "data": {
            "text/html": [
              "<div>\n",
              "<style scoped>\n",
              "    .dataframe tbody tr th:only-of-type {\n",
              "        vertical-align: middle;\n",
              "    }\n",
              "\n",
              "    .dataframe tbody tr th {\n",
              "        vertical-align: top;\n",
              "    }\n",
              "\n",
              "    .dataframe thead th {\n",
              "        text-align: right;\n",
              "    }\n",
              "</style>\n",
              "<table border=\"1\" class=\"dataframe\">\n",
              "  <thead>\n",
              "    <tr style=\"text-align: right;\">\n",
              "      <th></th>\n",
              "      <th>image</th>\n",
              "      <th>level</th>\n",
              "      <th>PatientId</th>\n",
              "      <th>path</th>\n",
              "      <th>exists</th>\n",
              "      <th>eye</th>\n",
              "      <th>new_path</th>\n",
              "    </tr>\n",
              "  </thead>\n",
              "  <tbody>\n",
              "    <tr>\n",
              "      <th>13819</th>\n",
              "      <td>17340_right</td>\n",
              "      <td>0</td>\n",
              "      <td>17340</td>\n",
              "      <td>./train/17340_right.jpeg</td>\n",
              "      <td>True</td>\n",
              "      <td>0</td>\n",
              "      <td>./train/17340_right.jpeg/0</td>\n",
              "    </tr>\n",
              "    <tr>\n",
              "      <th>5366</th>\n",
              "      <td>6745_left</td>\n",
              "      <td>0</td>\n",
              "      <td>6745</td>\n",
              "      <td>./train/6745_left.jpeg</td>\n",
              "      <td>True</td>\n",
              "      <td>1</td>\n",
              "      <td>./train/6745_left.jpeg/0</td>\n",
              "    </tr>\n",
              "    <tr>\n",
              "      <th>26545</th>\n",
              "      <td>33611_right</td>\n",
              "      <td>0</td>\n",
              "      <td>33611</td>\n",
              "      <td>./train/33611_right.jpeg</td>\n",
              "      <td>True</td>\n",
              "      <td>0</td>\n",
              "      <td>./train/33611_right.jpeg/0</td>\n",
              "    </tr>\n",
              "  </tbody>\n",
              "</table>\n",
              "</div>"
            ],
            "text/plain": [
              "             image level PatientId                      path  exists  eye  \\\n",
              "13819  17340_right     0     17340  ./train/17340_right.jpeg    True    0   \n",
              "5366     6745_left     0      6745    ./train/6745_left.jpeg    True    1   \n",
              "26545  33611_right     0     33611  ./train/33611_right.jpeg    True    0   \n",
              "\n",
              "                         new_path  \n",
              "13819  ./train/17340_right.jpeg/0  \n",
              "5366     ./train/6745_left.jpeg/0  \n",
              "26545  ./train/33611_right.jpeg/0  "
            ]
          },
          "metadata": {
            "tags": []
          },
          "execution_count": 58
        }
      ]
    },
    {
      "metadata": {
        "id": "lvLIymRtFhVQ",
        "colab_type": "code",
        "colab": {}
      },
      "cell_type": "code",
      "source": [
        "retina_df['new_path'] = retina_df['new_path'].map(lambda x:\n",
        "    x.split('/')[0] + '/' + x.split('/')[1] + '/'+ x.split('/')[3] + '_'+ x.split('/')[2]\n",
        ")"
      ],
      "execution_count": 0,
      "outputs": []
    },
    {
      "metadata": {
        "id": "UFjlXsmBG3gk",
        "colab_type": "code",
        "colab": {
          "base_uri": "https://localhost:8080/",
          "height": 142
        },
        "outputId": "a93f2979-da3d-4427-e2d3-c513fd95922f"
      },
      "cell_type": "code",
      "source": [
        "retina_df.sample(3)"
      ],
      "execution_count": 60,
      "outputs": [
        {
          "output_type": "execute_result",
          "data": {
            "text/html": [
              "<div>\n",
              "<style scoped>\n",
              "    .dataframe tbody tr th:only-of-type {\n",
              "        vertical-align: middle;\n",
              "    }\n",
              "\n",
              "    .dataframe tbody tr th {\n",
              "        vertical-align: top;\n",
              "    }\n",
              "\n",
              "    .dataframe thead th {\n",
              "        text-align: right;\n",
              "    }\n",
              "</style>\n",
              "<table border=\"1\" class=\"dataframe\">\n",
              "  <thead>\n",
              "    <tr style=\"text-align: right;\">\n",
              "      <th></th>\n",
              "      <th>image</th>\n",
              "      <th>level</th>\n",
              "      <th>PatientId</th>\n",
              "      <th>path</th>\n",
              "      <th>exists</th>\n",
              "      <th>eye</th>\n",
              "      <th>new_path</th>\n",
              "    </tr>\n",
              "  </thead>\n",
              "  <tbody>\n",
              "    <tr>\n",
              "      <th>24441</th>\n",
              "      <td>30898_right</td>\n",
              "      <td>0</td>\n",
              "      <td>30898</td>\n",
              "      <td>./train/30898_right.jpeg</td>\n",
              "      <td>True</td>\n",
              "      <td>0</td>\n",
              "      <td>./train/0_30898_right.jpeg</td>\n",
              "    </tr>\n",
              "    <tr>\n",
              "      <th>14593</th>\n",
              "      <td>18301_right</td>\n",
              "      <td>0</td>\n",
              "      <td>18301</td>\n",
              "      <td>./train/18301_right.jpeg</td>\n",
              "      <td>True</td>\n",
              "      <td>0</td>\n",
              "      <td>./train/0_18301_right.jpeg</td>\n",
              "    </tr>\n",
              "    <tr>\n",
              "      <th>34615</th>\n",
              "      <td>43749_right</td>\n",
              "      <td>0</td>\n",
              "      <td>43749</td>\n",
              "      <td>./train/43749_right.jpeg</td>\n",
              "      <td>True</td>\n",
              "      <td>0</td>\n",
              "      <td>./train/0_43749_right.jpeg</td>\n",
              "    </tr>\n",
              "  </tbody>\n",
              "</table>\n",
              "</div>"
            ],
            "text/plain": [
              "             image level PatientId                      path  exists  eye  \\\n",
              "24441  30898_right     0     30898  ./train/30898_right.jpeg    True    0   \n",
              "14593  18301_right     0     18301  ./train/18301_right.jpeg    True    0   \n",
              "34615  43749_right     0     43749  ./train/43749_right.jpeg    True    0   \n",
              "\n",
              "                         new_path  \n",
              "24441  ./train/0_30898_right.jpeg  \n",
              "14593  ./train/0_18301_right.jpeg  \n",
              "34615  ./train/0_43749_right.jpeg  "
            ]
          },
          "metadata": {
            "tags": []
          },
          "execution_count": 60
        }
      ]
    },
    {
      "metadata": {
        "id": "wMvy01MQ5T_a",
        "colab_type": "code",
        "colab": {}
      },
      "cell_type": "code",
      "source": [
        "retina_df['rename'] = retina_df['path'].str.cat(retina_df['new_path'], sep='#')"
      ],
      "execution_count": 0,
      "outputs": []
    },
    {
      "metadata": {
        "id": "7CJQ_8aU5fxq",
        "colab_type": "code",
        "colab": {
          "base_uri": "https://localhost:8080/",
          "height": 162
        },
        "outputId": "3b20ba82-9862-4860-e8fa-63cb1c6f6ceb"
      },
      "cell_type": "code",
      "source": [
        "retina_df.sample(3)"
      ],
      "execution_count": 62,
      "outputs": [
        {
          "output_type": "execute_result",
          "data": {
            "text/html": [
              "<div>\n",
              "<style scoped>\n",
              "    .dataframe tbody tr th:only-of-type {\n",
              "        vertical-align: middle;\n",
              "    }\n",
              "\n",
              "    .dataframe tbody tr th {\n",
              "        vertical-align: top;\n",
              "    }\n",
              "\n",
              "    .dataframe thead th {\n",
              "        text-align: right;\n",
              "    }\n",
              "</style>\n",
              "<table border=\"1\" class=\"dataframe\">\n",
              "  <thead>\n",
              "    <tr style=\"text-align: right;\">\n",
              "      <th></th>\n",
              "      <th>image</th>\n",
              "      <th>level</th>\n",
              "      <th>PatientId</th>\n",
              "      <th>path</th>\n",
              "      <th>exists</th>\n",
              "      <th>eye</th>\n",
              "      <th>new_path</th>\n",
              "      <th>rename</th>\n",
              "    </tr>\n",
              "  </thead>\n",
              "  <tbody>\n",
              "    <tr>\n",
              "      <th>27594</th>\n",
              "      <td>34931_left</td>\n",
              "      <td>0</td>\n",
              "      <td>34931</td>\n",
              "      <td>./train/34931_left.jpeg</td>\n",
              "      <td>True</td>\n",
              "      <td>1</td>\n",
              "      <td>./train/0_34931_left.jpeg</td>\n",
              "      <td>./train/34931_left.jpeg#./train/0_34931_left.jpeg</td>\n",
              "    </tr>\n",
              "    <tr>\n",
              "      <th>23636</th>\n",
              "      <td>29863_left</td>\n",
              "      <td>0</td>\n",
              "      <td>29863</td>\n",
              "      <td>./train/29863_left.jpeg</td>\n",
              "      <td>True</td>\n",
              "      <td>1</td>\n",
              "      <td>./train/0_29863_left.jpeg</td>\n",
              "      <td>./train/29863_left.jpeg#./train/0_29863_left.jpeg</td>\n",
              "    </tr>\n",
              "    <tr>\n",
              "      <th>27871</th>\n",
              "      <td>35301_right</td>\n",
              "      <td>2</td>\n",
              "      <td>35301</td>\n",
              "      <td>./train/35301_right.jpeg</td>\n",
              "      <td>True</td>\n",
              "      <td>0</td>\n",
              "      <td>./train/2_35301_right.jpeg</td>\n",
              "      <td>./train/35301_right.jpeg#./train/2_35301_right...</td>\n",
              "    </tr>\n",
              "  </tbody>\n",
              "</table>\n",
              "</div>"
            ],
            "text/plain": [
              "             image level PatientId                      path  exists  eye  \\\n",
              "27594   34931_left     0     34931   ./train/34931_left.jpeg    True    1   \n",
              "23636   29863_left     0     29863   ./train/29863_left.jpeg    True    1   \n",
              "27871  35301_right     2     35301  ./train/35301_right.jpeg    True    0   \n",
              "\n",
              "                         new_path  \\\n",
              "27594   ./train/0_34931_left.jpeg   \n",
              "23636   ./train/0_29863_left.jpeg   \n",
              "27871  ./train/2_35301_right.jpeg   \n",
              "\n",
              "                                                  rename  \n",
              "27594  ./train/34931_left.jpeg#./train/0_34931_left.jpeg  \n",
              "23636  ./train/29863_left.jpeg#./train/0_29863_left.jpeg  \n",
              "27871  ./train/35301_right.jpeg#./train/2_35301_right...  "
            ]
          },
          "metadata": {
            "tags": []
          },
          "execution_count": 62
        }
      ]
    },
    {
      "metadata": {
        "id": "ckajwicV5q1B",
        "colab_type": "code",
        "colab": {}
      },
      "cell_type": "code",
      "source": [
        "retina_df['rename'].map(lambda x: os.rename(x.split('#')[0], x.split('#')[1]))"
      ],
      "execution_count": 0,
      "outputs": []
    },
    {
      "metadata": {
        "id": "TA7GNUeM6T9h",
        "colab_type": "code",
        "colab": {
          "base_uri": "https://localhost:8080/",
          "height": 102
        },
        "outputId": "4adfc965-c89e-4652-f7b5-3ab89468bae2"
      },
      "cell_type": "code",
      "source": [
        "ls -l ./train | head -n 5"
      ],
      "execution_count": 64,
      "outputs": [
        {
          "output_type": "stream",
          "text": [
            "total 37125168\n",
            "-rw-r--r-- 1 root root 1563069 Feb  8  2015 0_10003_left.jpeg\n",
            "-rw-r--r-- 1 root root 1583826 Feb  8  2015 0_10003_right.jpeg\n",
            "-rw-r--r-- 1 root root  823276 Feb  8  2015 0_10007_left.jpeg\n",
            "-rw-r--r-- 1 root root  862711 Feb  8  2015 0_10007_right.jpeg\n"
          ],
          "name": "stdout"
        }
      ]
    },
    {
      "metadata": {
        "id": "JvWV1_UW6pJV",
        "colab_type": "code",
        "colab": {}
      },
      "cell_type": "code",
      "source": [
        "!mkdir data\n",
        "!mkdir ./data/0\n",
        "!mkdir ./data/1\n",
        "!mkdir ./data/2\n",
        "!mkdir ./data/3\n",
        "!mkdir ./data/4"
      ],
      "execution_count": 0,
      "outputs": []
    },
    {
      "metadata": {
        "id": "gGVaSJT07fN6",
        "colab_type": "code",
        "colab": {}
      },
      "cell_type": "code",
      "source": [
        "import os, shutil"
      ],
      "execution_count": 0,
      "outputs": []
    },
    {
      "metadata": {
        "id": "s3W5J7tRySNG",
        "colab_type": "code",
        "colab": {}
      },
      "cell_type": "code",
      "source": [
        "for fname in os.listdir(r'./train'):\n",
        "  if(fname.startswith('0')):\n",
        "    src = os.path.join('./train', fname) \n",
        "    dst = os.path.join('./data/0', fname)\n",
        "  elif(fname.startswith('1')):\n",
        "    src = os.path.join('./train', fname) \n",
        "    dst = os.path.join('./data/1', fname)\n",
        "  elif(fname.startswith('2')):\n",
        "    src = os.path.join('./train', fname) \n",
        "    dst = os.path.join('./data/2', fname)\n",
        "  elif(fname.startswith('3')):\n",
        "    src = os.path.join('./train', fname) \n",
        "    dst = os.path.join('./data/3', fname)\n",
        "  elif(fname.startswith('4')):\n",
        "    src = os.path.join('./train', fname) \n",
        "    dst = os.path.join('./data/4', fname)\n",
        "  shutil.copyfile(src, dst)\n",
        "  print(fname)"
      ],
      "execution_count": 0,
      "outputs": []
    },
    {
      "metadata": {
        "id": "S6G9ZzgiN4nS",
        "colab_type": "code",
        "colab": {
          "base_uri": "https://localhost:8080/",
          "height": 34
        },
        "outputId": "5ed11879-888e-41d9-873c-6053cac1212e"
      },
      "cell_type": "code",
      "source": [
        "ls -l ./data_708/3 |grep \"^-\"|wc -l"
      ],
      "execution_count": 104,
      "outputs": [
        {
          "output_type": "stream",
          "text": [
            "708\n"
          ],
          "name": "stdout"
        }
      ]
    },
    {
      "metadata": {
        "id": "xH-VqRaWOk1d",
        "colab_type": "code",
        "colab": {}
      },
      "cell_type": "code",
      "source": [
        "!mkdir data_708\n",
        "!mkdir ./data_708/0\n",
        "!mkdir ./data_708/1\n",
        "!mkdir ./data_708/2\n",
        "!mkdir ./data_708/3\n",
        "!mkdir ./data_708/4"
      ],
      "execution_count": 0,
      "outputs": []
    },
    {
      "metadata": {
        "id": "P4lxlRJ5OxJp",
        "colab_type": "code",
        "colab": {}
      },
      "cell_type": "code",
      "source": [
        "index = 0\n",
        "for fname in os.listdir(r'./data/4'):\n",
        "  if index==708:\n",
        "    break\n",
        "  src = os.path.join('./data/4', fname) \n",
        "  dst = os.path.join('./data_708/4', fname)\n",
        "  shutil.copyfile(src, dst)\n",
        "  index = index+1\n",
        "  print(fname)"
      ],
      "execution_count": 0,
      "outputs": []
    },
    {
      "metadata": {
        "id": "Lzh4ASsLQ1m2",
        "colab_type": "text"
      },
      "cell_type": "markdown",
      "source": [
        "================="
      ]
    },
    {
      "metadata": {
        "id": "2KrUE8j2U7K3",
        "colab_type": "code",
        "colab": {}
      },
      "cell_type": "code",
      "source": [
        "!zip -r data_708.zip data_708"
      ],
      "execution_count": 0,
      "outputs": []
    },
    {
      "metadata": {
        "id": "Ed8zI5AMWYfA",
        "colab_type": "code",
        "colab": {
          "base_uri": "https://localhost:8080/",
          "height": 34
        },
        "outputId": "506724c8-3950-44a5-b5f7-4856b9d95b7f"
      },
      "cell_type": "code",
      "source": [
        "!mkdir kaggle"
      ],
      "execution_count": 110,
      "outputs": [
        {
          "output_type": "stream",
          "text": [
            "mkdir: cannot create directory ‘kaggle’: File exists\n"
          ],
          "name": "stdout"
        }
      ]
    },
    {
      "metadata": {
        "id": "tySD2gN4WeL5",
        "colab_type": "code",
        "colab": {}
      },
      "cell_type": "code",
      "source": [
        "!mv data_708.zip ./kaggle"
      ],
      "execution_count": 0,
      "outputs": []
    },
    {
      "metadata": {
        "id": "RfR293tLXv1t",
        "colab_type": "code",
        "colab": {
          "base_uri": "https://localhost:8080/",
          "height": 51
        },
        "outputId": "740dc987-8e87-4a31-b200-9e2346446b96"
      },
      "cell_type": "code",
      "source": [
        "!ls -l ./kaggle"
      ],
      "execution_count": 114,
      "outputs": [
        {
          "output_type": "stream",
          "text": [
            "total 3519208\n",
            "-rw-r--r-- 1 root root 3603662179 Mar 24 06:23 data_708.zip\n"
          ],
          "name": "stdout"
        }
      ]
    },
    {
      "metadata": {
        "id": "shPzD_dLM8bD",
        "colab_type": "code",
        "outputId": "03478801-3b79-49f3-a214-d367ff3cd7b1",
        "colab": {
          "base_uri": "https://localhost:8080/",
          "height": 71
        }
      },
      "cell_type": "code",
      "source": [
        "!kaggle datasets init -p ./kaggle"
      ],
      "execution_count": 115,
      "outputs": [
        {
          "output_type": "stream",
          "text": [
            "Warning: Your Kaggle API key is readable by other users on this system! To fix this, you can run 'chmod 600 /root/.kaggle/kaggle.json'\n",
            "Data package template written to: ./kaggle/dataset-metadata.json\n"
          ],
          "name": "stdout"
        }
      ]
    },
    {
      "metadata": {
        "id": "tdrqMptOOpjm",
        "colab_type": "code",
        "outputId": "16a309a3-a839-4719-d495-febb53c54063",
        "colab": {
          "base_uri": "https://localhost:8080/",
          "height": 34
        }
      },
      "cell_type": "code",
      "source": [
        "!ls ./kaggle"
      ],
      "execution_count": 117,
      "outputs": [
        {
          "output_type": "stream",
          "text": [
            "data_708.zip  dataset-metadata.json\n"
          ],
          "name": "stdout"
        }
      ]
    },
    {
      "metadata": {
        "id": "4nS9PkmDO7Y3",
        "colab_type": "code",
        "colab": {}
      },
      "cell_type": "code",
      "source": [
        "!echo \"{\\\"licenses\\\": [{\\\"name\\\": \\\"CC0-1.0\\\"}], \\\"id\\\": \\\"dutianze/diabetic_708\\\", \\\"title\\\": \\\"mydata\\\"}\" > ./kaggle/dataset-metadata.json"
      ],
      "execution_count": 0,
      "outputs": []
    },
    {
      "metadata": {
        "id": "jzgJK_IhO4gZ",
        "colab_type": "code",
        "outputId": "87b62fa7-1d3a-4a56-f5c8-d82d3628ad9a",
        "colab": {
          "base_uri": "https://localhost:8080/",
          "height": 51
        }
      },
      "cell_type": "code",
      "source": [
        "!more ./kaggle/dataset-metadata.json"
      ],
      "execution_count": 124,
      "outputs": [
        {
          "output_type": "stream",
          "text": [
            "{\"licenses\": [{\"name\": \"CC0-1.0\"}], \"id\": \"dutianze/diabetic_708\", \"title\": \"myd\n",
            "ata\"}\n"
          ],
          "name": "stdout"
        }
      ]
    },
    {
      "metadata": {
        "id": "IsNeoE8XOw1t",
        "colab_type": "code",
        "outputId": "f7494b02-4a0e-4561-b3cb-38c612715201",
        "colab": {
          "base_uri": "https://localhost:8080/",
          "height": 122
        }
      },
      "cell_type": "code",
      "source": [
        "!kaggle datasets create -p ./kaggle/"
      ],
      "execution_count": 125,
      "outputs": [
        {
          "output_type": "stream",
          "text": [
            "Warning: Your Kaggle API key is readable by other users on this system! To fix this, you can run 'chmod 600 /root/.kaggle/kaggle.json'\n",
            "Starting upload for file data_708.zip\n",
            "100% 3.36G/3.36G [01:10<00:00, 51.0MB/s]\n",
            "Upload successful: data_708.zip (3GB)\n",
            "Your private Dataset is being created. Please check progress at https://www.kaggle.com/dutianze/diabetic_708\n"
          ],
          "name": "stdout"
        }
      ]
    },
    {
      "metadata": {
        "id": "V6VmUF1bZbsS",
        "colab_type": "code",
        "colab": {}
      },
      "cell_type": "code",
      "source": [
        "!mkdir data_bin\n",
        "!mkdir ./data_bin/0\n",
        "!mkdir ./data_bin/1\n",
        "!mkdir ./data_bin/2\n",
        "!mkdir ./data_bin/3\n",
        "!mkdir ./data_bin/4"
      ],
      "execution_count": 0,
      "outputs": []
    },
    {
      "metadata": {
        "id": "H16559YPZbvH",
        "colab_type": "code",
        "colab": {}
      },
      "cell_type": "code",
      "source": [
        "index = 0\n",
        "for fname in os.listdir(r'./data/0'):\n",
        "  if index==2832:\n",
        "    break\n",
        "  src = os.path.join('./data/0', fname) \n",
        "  dst = os.path.join('./data_bin/0', fname)\n",
        "  shutil.copyfile(src, dst)\n",
        "  index = index+1\n",
        "  print(fname)"
      ],
      "execution_count": 0,
      "outputs": []
    },
    {
      "metadata": {
        "id": "8HHS8MU8Zbxl",
        "colab_type": "code",
        "colab": {
          "base_uri": "https://localhost:8080/",
          "height": 34
        },
        "outputId": "94a342f2-9ba0-4547-f3af-ab85cd35a3b9"
      },
      "cell_type": "code",
      "source": [
        "ls -l ./data_bin/4 |grep \"^-\"|wc -l"
      ],
      "execution_count": 137,
      "outputs": [
        {
          "output_type": "stream",
          "text": [
            "708\n"
          ],
          "name": "stdout"
        }
      ]
    },
    {
      "metadata": {
        "id": "NalbIFuyZbz-",
        "colab_type": "code",
        "colab": {
          "base_uri": "https://localhost:8080/",
          "height": 102
        },
        "outputId": "0ed66182-571a-4cb2-e5aa-dfadd9c57f6b"
      },
      "cell_type": "code",
      "source": [
        "ls -l ./data_bin/4 | head -n 5"
      ],
      "execution_count": 142,
      "outputs": [
        {
          "output_type": "stream",
          "text": [
            "total 786140\n",
            "-rw-r--r-- 1 root root 1212278 Mar 24 06:35 4_10017_left.jpeg\n",
            "-rw-r--r-- 1 root root 1208863 Mar 24 06:35 4_10017_right.jpeg\n",
            "-rw-r--r-- 1 root root 1377738 Mar 24 06:35 4_10047_right.jpeg\n",
            "-rw-r--r-- 1 root root 1566055 Mar 24 06:35 4_10193_right.jpeg\n"
          ],
          "name": "stdout"
        }
      ]
    },
    {
      "metadata": {
        "id": "TgNz8UqkbXpK",
        "colab_type": "code",
        "colab": {}
      },
      "cell_type": "code",
      "source": [
        "mkdir kaggle2"
      ],
      "execution_count": 0,
      "outputs": []
    },
    {
      "metadata": {
        "id": "-wYCGP8Vbban",
        "colab_type": "code",
        "colab": {}
      },
      "cell_type": "code",
      "source": [
        "!zip -r data_bin.zip data_bin"
      ],
      "execution_count": 0,
      "outputs": []
    },
    {
      "metadata": {
        "id": "YlzXoGUfbbdT",
        "colab_type": "code",
        "colab": {}
      },
      "cell_type": "code",
      "source": [
        "!mv data_bin.zip ./kaggle2"
      ],
      "execution_count": 0,
      "outputs": []
    },
    {
      "metadata": {
        "id": "TqQ2nGV2bbf4",
        "colab_type": "code",
        "colab": {
          "base_uri": "https://localhost:8080/",
          "height": 71
        },
        "outputId": "b5578374-5451-46a3-a499-30ef4811836a"
      },
      "cell_type": "code",
      "source": [
        "!kaggle datasets init -p ./kaggle2"
      ],
      "execution_count": 146,
      "outputs": [
        {
          "output_type": "stream",
          "text": [
            "Warning: Your Kaggle API key is readable by other users on this system! To fix this, you can run 'chmod 600 /root/.kaggle/kaggle.json'\n",
            "Data package template written to: ./kaggle2/dataset-metadata.json\n"
          ],
          "name": "stdout"
        }
      ]
    },
    {
      "metadata": {
        "id": "mI5FbcBEbbio",
        "colab_type": "code",
        "colab": {}
      },
      "cell_type": "code",
      "source": [
        "!echo \"{\\\"licenses\\\": [{\\\"name\\\": \\\"CC0-1.0\\\"}], \\\"id\\\": \\\"dutianze/diabetic_bin\\\", \\\"title\\\": \\\"mydata_bin\\\"}\" > ./kaggle2/dataset-metadata.json"
      ],
      "execution_count": 0,
      "outputs": []
    },
    {
      "metadata": {
        "id": "3K_vHIKhfgUU",
        "colab_type": "code",
        "colab": {
          "base_uri": "https://localhost:8080/",
          "height": 122
        },
        "outputId": "b54636b9-0b56-4e88-80af-561150cb30d6"
      },
      "cell_type": "code",
      "source": [
        "!kaggle datasets create -p ./kaggle2/"
      ],
      "execution_count": 148,
      "outputs": [
        {
          "output_type": "stream",
          "text": [
            "Warning: Your Kaggle API key is readable by other users on this system! To fix this, you can run 'chmod 600 /root/.kaggle/kaggle.json'\n",
            "Starting upload for file data_bin.zip\n",
            "100% 5.31G/5.31G [01:29<00:00, 63.5MB/s]\n",
            "Upload successful: data_bin.zip (5GB)\n",
            "Your private Dataset is being created. Please check progress at https://www.kaggle.com/dutianze/diabetic_bin\n"
          ],
          "name": "stdout"
        }
      ]
    },
    {
      "metadata": {
        "id": "N9BDtd4mfgW5",
        "colab_type": "code",
        "colab": {}
      },
      "cell_type": "code",
      "source": [
        ""
      ],
      "execution_count": 0,
      "outputs": []
    },
    {
      "metadata": {
        "id": "Uwg4GPd3fgZd",
        "colab_type": "code",
        "colab": {}
      },
      "cell_type": "code",
      "source": [
        ""
      ],
      "execution_count": 0,
      "outputs": []
    }
  ]
}
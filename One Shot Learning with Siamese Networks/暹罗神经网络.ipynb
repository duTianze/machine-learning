{
 "cells": [
  {
   "cell_type": "code",
   "execution_count": 1,
   "metadata": {},
   "outputs": [
    {
     "name": "stderr",
     "output_type": "stream",
     "text": [
      "Using TensorFlow backend.\n"
     ]
    }
   ],
   "source": [
    "from __future__ import absolute_import\n",
    "from __future__ import print_function\n",
    "import numpy as np\n",
    "\n",
    "import random\n",
    "from keras.datasets import mnist\n",
    "from keras.models import Model\n",
    "from keras.layers import Input, Flatten, Dense, Dropout, Lambda, Conv1D, MaxPooling1D, BatchNormalization\n",
    "from keras.optimizers import RMSprop\n",
    "from keras import backend as K"
   ]
  },
  {
   "cell_type": "markdown",
   "metadata": {},
   "source": [
    "##  训练、测试数据"
   ]
  },
  {
   "cell_type": "markdown",
   "metadata": {},
   "source": [
    "## 生成数据的函数"
   ]
  },
  {
   "cell_type": "code",
   "execution_count": 2,
   "metadata": {},
   "outputs": [],
   "source": [
    "def euclidean_distance(vects):\n",
    "    x, y = vects\n",
    "    sum_square = K.sum(K.square(x - y), axis=1, keepdims=True)\n",
    "    return K.sqrt(K.maximum(sum_square, K.epsilon()))\n",
    "\n",
    "\n",
    "def eucl_dist_output_shape(shapes):\n",
    "    shape1, shape2 = shapes\n",
    "    return (shape1[0], 1)\n",
    "\n",
    "\n",
    "def contrastive_loss(y_true, y_pred):\n",
    "    '''Contrastive loss from Hadsell-et-al.'06\n",
    "    http://yann.lecun.com/exdb/publis/pdf/hadsell-chopra-lecun-06.pdf\n",
    "    '''\n",
    "    margin = 1\n",
    "    square_pred = K.square(y_pred)\n",
    "    margin_square = K.square(K.maximum(margin - y_pred, 0))\n",
    "    return K.mean(y_true * square_pred + (1 - y_true) * margin_square)\n",
    "\n",
    "\n",
    "def create_pairs(x, digit_indices):\n",
    "    '''Positive and negative pair creation.\n",
    "    Alternates between positive and negative pairs.\n",
    "    '''\n",
    "    pairs = []\n",
    "    labels = []\n",
    "    n = min([len(digit_indices[d]) for d in range(num_classes)]) - 1\n",
    "    for d in range(num_classes):\n",
    "        for i in range(n):\n",
    "            z1, z2 = digit_indices[d][i], digit_indices[d][i + 1]\n",
    "            pairs += [[x[z1], x[z2]]]\n",
    "            inc = random.randrange(1, num_classes)\n",
    "            dn = (d + inc) % num_classes\n",
    "            z1, z2 = digit_indices[d][i], digit_indices[dn][i]\n",
    "            pairs += [[x[z1], x[z2]]]\n",
    "            labels += [1, 0]\n",
    "    return np.array(pairs), np.array(labels)\n",
    "\n",
    "\n",
    "def compute_accuracy(y_true, y_pred):\n",
    "    '''Compute classification accuracy with a fixed threshold on distances.\n",
    "    '''\n",
    "    pred = y_pred.ravel() < 0.5\n",
    "    return np.mean(pred == y_true)\n",
    "\n",
    "\n",
    "def accuracy(y_true, y_pred):\n",
    "    '''Compute classification accuracy with a fixed threshold on distances.\n",
    "    '''\n",
    "    return K.mean(K.equal(y_true, K.cast(y_pred < 0.5, y_true.dtype)))"
   ]
  },
  {
   "cell_type": "code",
   "execution_count": 3,
   "metadata": {},
   "outputs": [],
   "source": [
    "num_classes = 2\n",
    "epochs = 50\n",
    "\n",
    "train = np.load('./train_npy.npy')\n",
    "test = np.load('./test_npy.npy')\n",
    "x_train = train[:, 1:]\n",
    "y_train = train[:, :1]\n",
    "\n",
    "x_test = test[:, 1:]\n",
    "y_test = test[:, :1]\n",
    "\n",
    "x_train = x_train.astype('float32')\n",
    "x_test = x_test.astype('float32')\n",
    "\n",
    "\n",
    "x_train = x_train.reshape(x_train.shape[0], x_train.shape[1], 1)\n",
    "x_test = x_test.reshape(x_test.shape[0], x_test.shape[1], 1)"
   ]
  },
  {
   "cell_type": "code",
   "execution_count": 4,
   "metadata": {},
   "outputs": [
    {
     "name": "stdout",
     "output_type": "stream",
     "text": [
      "(16857, 100, 1)\n",
      "(16857, 1)\n",
      "(17122, 100, 1)\n",
      "(17122, 1)\n"
     ]
    }
   ],
   "source": [
    "print(x_train.shape)\n",
    "print(y_train.shape)\n",
    "print(x_test.shape)\n",
    "print(y_test.shape)"
   ]
  },
  {
   "cell_type": "markdown",
   "metadata": {},
   "source": [
    "## 构建模型"
   ]
  },
  {
   "cell_type": "code",
   "execution_count": 5,
   "metadata": {},
   "outputs": [
    {
     "name": "stdout",
     "output_type": "stream",
     "text": [
      "WARNING:tensorflow:From /usr/local/lib/python3.7/site-packages/tensorflow/python/framework/op_def_library.py:263: colocate_with (from tensorflow.python.framework.ops) is deprecated and will be removed in a future version.\n",
      "Instructions for updating:\n",
      "Colocations handled automatically by placer.\n"
     ]
    }
   ],
   "source": [
    "def create_base_network(input_shape):\n",
    "    '''Base network to be shared (eq. to feature extraction).\n",
    "    '''\n",
    "    input = Input(shape=input_shape)\n",
    "    x = Conv1D(8, 3, activation=\"selu\")(input)\n",
    "    x = BatchNormalization()(x)\n",
    "    x = MaxPooling1D(2)(x)   \n",
    "    x = Conv1D(8, 3, activation=\"selu\")(x)\n",
    "    x = BatchNormalization()(x)\n",
    "    x = MaxPooling1D(2, padding=\"same\")(x)             \n",
    "    x = Flatten()(x)\n",
    "    return Model(input, x)\n",
    "\n",
    "input_shape = x_train.shape[1:]\n",
    "# create training+test positive and negative pairs\n",
    "digit_indices = [np.where(y_train == i)[0] for i in range(num_classes)]\n",
    "tr_pairs, tr_y = create_pairs(x_train, digit_indices)\n",
    "\n",
    "digit_indices = [np.where(y_test == i)[0] for i in range(num_classes)]\n",
    "te_pairs, te_y = create_pairs(x_test, digit_indices)\n",
    "\n",
    "# network definition\n",
    "base_network = create_base_network(input_shape)\n",
    "\n",
    "input_a = Input(shape=input_shape)\n",
    "input_b = Input(shape=input_shape)\n",
    "\n",
    "# because we re-use the same instance `base_network`,\n",
    "# the weights of the network\n",
    "# will be shared across the two branches\n",
    "processed_a = base_network(input_a)\n",
    "processed_b = base_network(input_b)\n",
    "\n",
    "distance = Lambda(euclidean_distance,\n",
    "                  output_shape=eucl_dist_output_shape)([processed_a, processed_b])\n",
    "\n",
    "model = Model([input_a, input_b], distance)"
   ]
  },
  {
   "cell_type": "code",
   "execution_count": 6,
   "metadata": {},
   "outputs": [
    {
     "name": "stdout",
     "output_type": "stream",
     "text": [
      "__________________________________________________________________________________________________\n",
      "Layer (type)                    Output Shape         Param #     Connected to                     \n",
      "==================================================================================================\n",
      "input_2 (InputLayer)            (None, 100, 1)       0                                            \n",
      "__________________________________________________________________________________________________\n",
      "input_3 (InputLayer)            (None, 100, 1)       0                                            \n",
      "__________________________________________________________________________________________________\n",
      "model_1 (Model)                 (None, 192)          296         input_2[0][0]                    \n",
      "                                                                 input_3[0][0]                    \n",
      "__________________________________________________________________________________________________\n",
      "lambda_1 (Lambda)               (None, 1)            0           model_1[1][0]                    \n",
      "                                                                 model_1[2][0]                    \n",
      "==================================================================================================\n",
      "Total params: 296\n",
      "Trainable params: 264\n",
      "Non-trainable params: 32\n",
      "__________________________________________________________________________________________________\n"
     ]
    }
   ],
   "source": [
    "model.summary()"
   ]
  },
  {
   "cell_type": "markdown",
   "metadata": {},
   "source": [
    "## 训练模型"
   ]
  },
  {
   "cell_type": "code",
   "execution_count": 7,
   "metadata": {},
   "outputs": [
    {
     "name": "stdout",
     "output_type": "stream",
     "text": [
      "WARNING:tensorflow:From /usr/local/lib/python3.7/site-packages/tensorflow/python/ops/math_ops.py:3066: to_int32 (from tensorflow.python.ops.math_ops) is deprecated and will be removed in a future version.\n",
      "Instructions for updating:\n",
      "Use tf.cast instead.\n",
      "Train on 25908 samples, validate on 26064 samples\n",
      "Epoch 1/50\n",
      "25908/25908 [==============================] - 4s 167us/step - loss: 73.3959 - accuracy: 0.5000 - val_loss: 39.3617 - val_accuracy: 0.5002\n",
      "Epoch 2/50\n",
      "25908/25908 [==============================] - 3s 126us/step - loss: 43.5903 - accuracy: 0.5001 - val_loss: 16.4850 - val_accuracy: 0.5015\n",
      "Epoch 3/50\n",
      "25908/25908 [==============================] - 3s 125us/step - loss: 24.0715 - accuracy: 0.5001 - val_loss: 8.2648 - val_accuracy: 0.5053\n",
      "Epoch 4/50\n",
      "25908/25908 [==============================] - 3s 122us/step - loss: 13.3683 - accuracy: 0.5006 - val_loss: 6.2338 - val_accuracy: 0.5083\n",
      "Epoch 5/50\n",
      "25908/25908 [==============================] - 3s 121us/step - loss: 7.9073 - accuracy: 0.5028 - val_loss: 3.2254 - val_accuracy: 0.5257\n",
      "Epoch 6/50\n",
      "25908/25908 [==============================] - 3s 119us/step - loss: 4.2599 - accuracy: 0.5116 - val_loss: 2.3565 - val_accuracy: 0.5392\n",
      "Epoch 7/50\n",
      "25908/25908 [==============================] - 3s 124us/step - loss: 2.0247 - accuracy: 0.5401 - val_loss: 1.9037 - val_accuracy: 0.5553\n",
      "Epoch 8/50\n",
      "25908/25908 [==============================] - 3s 122us/step - loss: 1.0591 - accuracy: 0.5858 - val_loss: 1.0874 - val_accuracy: 0.6133\n",
      "Epoch 9/50\n",
      "25908/25908 [==============================] - 3s 119us/step - loss: 0.5674 - accuracy: 0.6316 - val_loss: 0.7169 - val_accuracy: 0.6595\n",
      "Epoch 10/50\n",
      "25908/25908 [==============================] - 3s 123us/step - loss: 0.3694 - accuracy: 0.6541 - val_loss: 0.3196 - val_accuracy: 0.7362\n",
      "Epoch 11/50\n",
      "25908/25908 [==============================] - 3s 130us/step - loss: 0.2978 - accuracy: 0.6660 - val_loss: 0.8012 - val_accuracy: 0.6632\n",
      "Epoch 12/50\n",
      "25908/25908 [==============================] - 3s 123us/step - loss: 0.2548 - accuracy: 0.6796 - val_loss: 0.3211 - val_accuracy: 0.7331\n",
      "Epoch 13/50\n",
      "25908/25908 [==============================] - 3s 122us/step - loss: 0.2607 - accuracy: 0.6745 - val_loss: 0.2844 - val_accuracy: 0.7468\n",
      "Epoch 14/50\n",
      "25908/25908 [==============================] - 3s 124us/step - loss: 0.3874 - accuracy: 0.6672 - val_loss: 0.8143 - val_accuracy: 0.6333\n",
      "Epoch 15/50\n",
      "25908/25908 [==============================] - 3s 127us/step - loss: 0.2962 - accuracy: 0.6708 - val_loss: 0.2982 - val_accuracy: 0.7468\n",
      "Epoch 16/50\n",
      "25908/25908 [==============================] - 3s 121us/step - loss: 0.2365 - accuracy: 0.6795 - val_loss: 0.2221 - val_accuracy: 0.7168\n",
      "Epoch 17/50\n",
      "25908/25908 [==============================] - 3s 125us/step - loss: 0.2309 - accuracy: 0.6812 - val_loss: 0.2559 - val_accuracy: 0.7527\n",
      "Epoch 18/50\n",
      "25908/25908 [==============================] - 3s 125us/step - loss: 0.2289 - accuracy: 0.6809 - val_loss: 0.2783 - val_accuracy: 0.7510\n",
      "Epoch 19/50\n",
      "25908/25908 [==============================] - 3s 129us/step - loss: 0.2364 - accuracy: 0.6794 - val_loss: 0.2105 - val_accuracy: 0.6978\n",
      "Epoch 20/50\n",
      "25908/25908 [==============================] - 3s 122us/step - loss: 0.2550 - accuracy: 0.6755 - val_loss: 0.2113 - val_accuracy: 0.7316\n",
      "Epoch 21/50\n",
      "25908/25908 [==============================] - 3s 122us/step - loss: 0.2267 - accuracy: 0.6848 - val_loss: 0.2631 - val_accuracy: 0.7295\n",
      "Epoch 22/50\n",
      "25908/25908 [==============================] - 3s 120us/step - loss: 0.2211 - accuracy: 0.6846 - val_loss: 0.2184 - val_accuracy: 0.6592\n",
      "Epoch 23/50\n",
      "25908/25908 [==============================] - 3s 120us/step - loss: 0.2157 - accuracy: 0.6864 - val_loss: 0.2096 - val_accuracy: 0.6667\n",
      "Epoch 24/50\n",
      "25908/25908 [==============================] - 3s 120us/step - loss: 0.2151 - accuracy: 0.6905 - val_loss: 0.1983 - val_accuracy: 0.7073\n",
      "Epoch 25/50\n",
      "25908/25908 [==============================] - 3s 121us/step - loss: 0.2088 - accuracy: 0.6938 - val_loss: 0.1947 - val_accuracy: 0.7056\n",
      "Epoch 26/50\n",
      "25908/25908 [==============================] - 3s 120us/step - loss: 0.2146 - accuracy: 0.6892 - val_loss: 0.2112 - val_accuracy: 0.7499\n",
      "Epoch 27/50\n",
      "25908/25908 [==============================] - 3s 120us/step - loss: 0.2053 - accuracy: 0.6929 - val_loss: 0.2012 - val_accuracy: 0.7298\n",
      "Epoch 28/50\n",
      "25908/25908 [==============================] - 3s 120us/step - loss: 0.2058 - accuracy: 0.6928 - val_loss: 0.1875 - val_accuracy: 0.7328\n",
      "Epoch 29/50\n",
      "25908/25908 [==============================] - 3s 121us/step - loss: 0.2135 - accuracy: 0.6924 - val_loss: 0.2273 - val_accuracy: 0.7182\n",
      "Epoch 30/50\n",
      "25908/25908 [==============================] - 3s 123us/step - loss: 0.2365 - accuracy: 0.6848 - val_loss: 0.1942 - val_accuracy: 0.7186\n",
      "Epoch 31/50\n",
      "25908/25908 [==============================] - 3s 124us/step - loss: 0.2043 - accuracy: 0.6928 - val_loss: 0.1853 - val_accuracy: 0.7328\n",
      "Epoch 32/50\n",
      "25908/25908 [==============================] - 3s 127us/step - loss: 0.2046 - accuracy: 0.6924 - val_loss: 0.1880 - val_accuracy: 0.7304\n",
      "Epoch 33/50\n",
      "25908/25908 [==============================] - 3s 128us/step - loss: 0.2035 - accuracy: 0.6947 - val_loss: 0.1915 - val_accuracy: 0.7408\n",
      "Epoch 34/50\n",
      "25908/25908 [==============================] - 3s 123us/step - loss: 0.2057 - accuracy: 0.6940 - val_loss: 0.1899 - val_accuracy: 0.7079\n",
      "Epoch 35/50\n",
      "25908/25908 [==============================] - 3s 120us/step - loss: 0.2006 - accuracy: 0.6936 - val_loss: 0.1887 - val_accuracy: 0.7208\n",
      "Epoch 36/50\n",
      "25908/25908 [==============================] - 3s 124us/step - loss: 0.2011 - accuracy: 0.6944 - val_loss: 0.1827 - val_accuracy: 0.7363\n",
      "Epoch 37/50\n",
      "25908/25908 [==============================] - 3s 126us/step - loss: 0.2030 - accuracy: 0.6940 - val_loss: 0.1816 - val_accuracy: 0.7273\n",
      "Epoch 38/50\n",
      "25908/25908 [==============================] - 3s 123us/step - loss: 0.2010 - accuracy: 0.6945 - val_loss: 0.1818 - val_accuracy: 0.7296\n",
      "Epoch 39/50\n",
      "25908/25908 [==============================] - 3s 122us/step - loss: 0.1995 - accuracy: 0.6952 - val_loss: 0.1832 - val_accuracy: 0.7187\n",
      "Epoch 40/50\n",
      "25908/25908 [==============================] - 3s 122us/step - loss: 0.2008 - accuracy: 0.6941 - val_loss: 0.1856 - val_accuracy: 0.7155\n",
      "Epoch 41/50\n",
      "25908/25908 [==============================] - 3s 124us/step - loss: 0.1999 - accuracy: 0.6950 - val_loss: 0.1859 - val_accuracy: 0.7077\n",
      "Epoch 42/50\n",
      "25908/25908 [==============================] - 3s 124us/step - loss: 0.2000 - accuracy: 0.6950 - val_loss: 0.1846 - val_accuracy: 0.7213\n",
      "Epoch 43/50\n",
      "25908/25908 [==============================] - 3s 119us/step - loss: 0.2001 - accuracy: 0.6943 - val_loss: 0.1846 - val_accuracy: 0.7250\n",
      "Epoch 44/50\n",
      "25908/25908 [==============================] - 3s 123us/step - loss: 0.1995 - accuracy: 0.6943 - val_loss: 0.1836 - val_accuracy: 0.7150\n",
      "Epoch 45/50\n",
      "25908/25908 [==============================] - 3s 120us/step - loss: 0.2010 - accuracy: 0.6952 - val_loss: 0.1878 - val_accuracy: 0.7041\n",
      "Epoch 46/50\n",
      "25908/25908 [==============================] - 3s 120us/step - loss: 0.1992 - accuracy: 0.6945 - val_loss: 0.1849 - val_accuracy: 0.7136\n",
      "Epoch 47/50\n",
      "25908/25908 [==============================] - 3s 120us/step - loss: 0.1993 - accuracy: 0.6934 - val_loss: 0.1832 - val_accuracy: 0.7236\n",
      "Epoch 48/50\n",
      "25908/25908 [==============================] - 3s 117us/step - loss: 0.1990 - accuracy: 0.6949 - val_loss: 0.1870 - val_accuracy: 0.7069\n",
      "Epoch 49/50\n",
      "25908/25908 [==============================] - 3s 120us/step - loss: 0.1991 - accuracy: 0.6934 - val_loss: 0.1860 - val_accuracy: 0.7079\n",
      "Epoch 50/50\n",
      "25908/25908 [==============================] - 3s 117us/step - loss: 0.1985 - accuracy: 0.6947 - val_loss: 0.1793 - val_accuracy: 0.7376\n",
      "* Accuracy on training set: 69.24%\n",
      "* Accuracy on test set: 73.76%\n"
     ]
    }
   ],
   "source": [
    "# train\n",
    "model.compile(loss=contrastive_loss, optimizer='adam', metrics=[accuracy])\n",
    "history = model.fit([tr_pairs[:, 0], tr_pairs[:, 1]], tr_y,\n",
    "          batch_size=128,\n",
    "          epochs=epochs,\n",
    "          validation_data=([te_pairs[:, 0], te_pairs[:, 1]], te_y))\n",
    "\n",
    "# compute final accuracy on training and test sets\n",
    "y_pred = model.predict([tr_pairs[:, 0], tr_pairs[:, 1]])\n",
    "tr_acc = compute_accuracy(tr_y, y_pred)\n",
    "y_pred = model.predict([te_pairs[:, 0], te_pairs[:, 1]])\n",
    "te_acc = compute_accuracy(te_y, y_pred)\n",
    "\n",
    "print('* Accuracy on training set: %0.2f%%' % (100 * tr_acc))\n",
    "print('* Accuracy on test set: %0.2f%%' % (100 * te_acc))\n"
   ]
  },
  {
   "cell_type": "markdown",
   "metadata": {},
   "source": [
    "## 可视化训练结果"
   ]
  },
  {
   "cell_type": "code",
   "execution_count": 8,
   "metadata": {},
   "outputs": [
    {
     "name": "stdout",
     "output_type": "stream",
     "text": [
      "Populating the interactive namespace from numpy and matplotlib\n"
     ]
    },
    {
     "name": "stderr",
     "output_type": "stream",
     "text": [
      "/usr/local/lib/python3.7/site-packages/IPython/core/magics/pylab.py:160: UserWarning: pylab import has clobbered these variables: ['test', 'random']\n",
      "`%matplotlib` prevents importing * from pylab and numpy\n",
      "  \"\\n`%matplotlib` prevents importing * from pylab and numpy\"\n"
     ]
    },
    {
     "data": {
      "image/png": "[encoded data removed]",
      "text/plain": [
       "<Figure size 432x288 with 1 Axes>"
      ]
     },
     "metadata": {
      "needs_background": "light"
     },
     "output_type": "display_data"
    },
    {
     "data": {
      "image/png": "[encoded data removed]",
      "text/plain": [
       "<Figure size 432x288 with 1 Axes>"
      ]
     },
     "metadata": {
      "needs_background": "light"
     },
     "output_type": "display_data"
    }
   ],
   "source": [
    "import matplotlib.pyplot as plt\n",
    "%pylab inline\n",
    "# 绘制训练 & 验证的准确率值\n",
    "plt.plot(history.history['accuracy'])\n",
    "plt.plot(history.history['val_accuracy'])\n",
    "plt.title('Model accuracy')\n",
    "plt.ylabel('Accuracy')\n",
    "plt.xlabel('Epoch')\n",
    "plt.legend(['Train', 'Test'], loc='upper left')\n",
    "plt.show()\n",
    "\n",
    "# 绘制训练 & 验证的损失值\n",
    "plt.plot(history.history['loss'])\n",
    "plt.plot(history.history['val_loss'])\n",
    "plt.title('Model loss')\n",
    "plt.ylabel('Loss')\n",
    "plt.xlabel('Epoch')\n",
    "plt.legend(['Train', 'Test'], loc='upper left')\n",
    "plt.show()"
   ]
  }
 ],
 "metadata": {
  "kernelspec": {
   "display_name": "Python 3",
   "language": "python",
   "name": "python3"
  },
  "language_info": {
   "codemirror_mode": {
    "name": "ipython",
    "version": 3
   },
   "file_extension": ".py",
   "mimetype": "text/x-python",
   "name": "python",
   "nbconvert_exporter": "python",
   "pygments_lexer": "ipython3",
   "version": "3.7.4"
  }
 },
 "nbformat": 4,
 "nbformat_minor": 2
}

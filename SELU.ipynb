{
  "nbformat": 4,
  "nbformat_minor": 0,
  "metadata": {
    "colab": {
      "name": "Untitled0.ipynb",
      "version": "0.3.2",
      "provenance": [],
      "include_colab_link": true
    },
    "kernelspec": {
      "name": "python3",
      "display_name": "Python 3"
    }
  },
  "cells": [
    {
      "cell_type": "markdown",
      "metadata": {
        "id": "view-in-github",
        "colab_type": "text"
      },
      "source": [
        "<a href=\"https://colab.research.google.com/github/duTianze/machine-learning/blob/master/SELU.ipynb\" target=\"_parent\"><img src=\"https://colab.research.google.com/assets/colab-badge.svg\" alt=\"Open In Colab\"/></a>"
      ]
    },
    {
      "metadata": {
        "id": "aQlrI4345yFq",
        "colab_type": "text"
      },
      "cell_type": "markdown",
      "source": [
        "selu + lecun_normal  is useful for deep \n",
        "test :\n",
        "\n",
        "1.   relu RandomNormal\n",
        "2.   selu RandomNormal\n",
        "\n",
        "preprocess data to Normalization\n",
        "\n",
        "1.   selu lecun_normal\n",
        "2.   relu lecun_normal \n"
      ]
    },
    {
      "metadata": {
        "id": "z5E4F5ORtp_I",
        "colab_type": "code",
        "colab": {}
      },
      "cell_type": "code",
      "source": [
        "import numpy as np\n",
        "from keras.models import Sequential\n",
        "from keras.layers.core import Dense, Dropout, Activation\n",
        "from keras.layers import Conv2D, MaxPooling2D, Flatten\n",
        "from keras.optimizers import SGD, Adam\n",
        "from keras.utils import np_utils\n",
        "from keras.datasets import mnist\n",
        "\n",
        "def load_data():\n",
        "    (x_train, y_train), (x_test, y_test) = mnist.load_data()\n",
        "    number = 10000\n",
        "    x_train = x_train[0:number]\n",
        "    y_train = y_train[0:number]\n",
        "    \n",
        "    x_train = x_train.reshape(number, 28*28)\n",
        "    x_test = x_test.reshape(x_test.shape[0], 28*28)\n",
        "    \n",
        "    x_train = x_train.astype('float32')\n",
        "    x_test = x_test.astype('float32')\n",
        "    \n",
        "    y_train = np_utils.to_categorical(y_train, 10)\n",
        "    y_test = np_utils.to_categorical(y_test, 10)\n",
        "    \n",
        "    x_train = x_train / 255\n",
        "    x_test = x_test / 255\n",
        "    return (x_train, y_train), (x_test, y_test)\n",
        "    \n",
        "(x_train, y_train), (x_test, y_test) = load_data()"
      ],
      "execution_count": 0,
      "outputs": []
    },
    {
      "metadata": {
        "id": "BFkrqwi62QNb",
        "colab_type": "code",
        "colab": {}
      },
      "cell_type": "code",
      "source": [
        "def test(act, init):\n",
        "  model = Sequential()\n",
        "\n",
        "  model.add(Dense(input_dim=28*28, units=100, activation=act, kernel_initializer=init))\n",
        "\n",
        "  for i in range(50):\n",
        "    model.add(Dense(units=100, activation=act, kernel_initializer=init))\n",
        "\n",
        "  model.add(Dense(units=10, activation='softmax', kernel_initializer=init))\n",
        "\n",
        "\n",
        "  model.compile(loss='categorical_crossentropy', optimizer='adam', metrics=['accuracy'])\n",
        "\n",
        "  model.fit(x_train, y_train, batch_size=1000, epochs=5)\n",
        "\n",
        "  result = model.evaluate(x_test, y_test)\n",
        "  print('\\nTest Acc:', result[1])"
      ],
      "execution_count": 0,
      "outputs": []
    },
    {
      "metadata": {
        "id": "3QgNMwHDxAsp",
        "colab_type": "code",
        "colab": {
          "base_uri": "https://localhost:8080/",
          "height": 244
        },
        "outputId": "6324d483-3692-467d-b9f4-84435f6d5142"
      },
      "cell_type": "code",
      "source": [
        "test('relu', 'RandomNormal')"
      ],
      "execution_count": 22,
      "outputs": [
        {
          "output_type": "stream",
          "text": [
            "Epoch 1/5\n",
            "10000/10000 [==============================] - 17s 2ms/step - loss: 2.3024 - acc: 0.1108\n",
            "Epoch 2/5\n",
            "10000/10000 [==============================] - 1s 127us/step - loss: 2.3018 - acc: 0.1127\n",
            "Epoch 3/5\n",
            "10000/10000 [==============================] - 1s 129us/step - loss: 2.3010 - acc: 0.1127\n",
            "Epoch 4/5\n",
            "10000/10000 [==============================] - 1s 127us/step - loss: 2.3005 - acc: 0.1127\n",
            "Epoch 5/5\n",
            "10000/10000 [==============================] - 1s 127us/step - loss: 2.3004 - acc: 0.1127\n",
            "10000/10000 [==============================] - 8s 841us/step\n",
            "\n",
            "Test Acc: 0.1135\n"
          ],
          "name": "stdout"
        }
      ]
    },
    {
      "metadata": {
        "id": "Obzqt0zxx1K7",
        "colab_type": "code",
        "colab": {
          "base_uri": "https://localhost:8080/",
          "height": 244
        },
        "outputId": "6d76c0f6-f281-4821-a582-4796b624c2c6"
      },
      "cell_type": "code",
      "source": [
        "test('selu', 'RandomNormal')"
      ],
      "execution_count": 23,
      "outputs": [
        {
          "output_type": "stream",
          "text": [
            "Epoch 1/5\n",
            "10000/10000 [==============================] - 18s 2ms/step - loss: 2.3018 - acc: 0.1089\n",
            "Epoch 2/5\n",
            "10000/10000 [==============================] - 2s 211us/step - loss: 2.3010 - acc: 0.1127\n",
            "Epoch 3/5\n",
            "10000/10000 [==============================] - 2s 210us/step - loss: 2.3008 - acc: 0.1127\n",
            "Epoch 4/5\n",
            "10000/10000 [==============================] - 2s 207us/step - loss: 2.3006 - acc: 0.1127\n",
            "Epoch 5/5\n",
            "10000/10000 [==============================] - 2s 210us/step - loss: 2.3006 - acc: 0.1127\n",
            "10000/10000 [==============================] - 10s 1ms/step\n",
            "\n",
            "Test Acc: 0.1135\n"
          ],
          "name": "stdout"
        }
      ]
    },
    {
      "metadata": {
        "id": "OhF_dpKR3msN",
        "colab_type": "code",
        "colab": {}
      },
      "cell_type": "code",
      "source": [
        "from sklearn import preprocessing\n",
        "scaler = preprocessing.StandardScaler().fit(x_train)\n",
        "x_train = scaler.transform(x_train)\n",
        "x_test = scaler.transform(x_test)"
      ],
      "execution_count": 0,
      "outputs": []
    },
    {
      "metadata": {
        "id": "TZCHJxPa5PyL",
        "colab_type": "code",
        "colab": {
          "base_uri": "https://localhost:8080/",
          "height": 244
        },
        "outputId": "1f1c2ba2-d526-4409-de7a-d5cefad5a47d"
      },
      "cell_type": "code",
      "source": [
        "test('selu', 'lecun_normal')"
      ],
      "execution_count": 28,
      "outputs": [
        {
          "output_type": "stream",
          "text": [
            "Epoch 1/5\n",
            "10000/10000 [==============================] - 21s 2ms/step - loss: 1.8666 - acc: 0.3269\n",
            "Epoch 2/5\n",
            "10000/10000 [==============================] - 2s 210us/step - loss: 1.1396 - acc: 0.5742\n",
            "Epoch 3/5\n",
            "10000/10000 [==============================] - 2s 210us/step - loss: 0.9083 - acc: 0.6685\n",
            "Epoch 4/5\n",
            "10000/10000 [==============================] - 2s 212us/step - loss: 0.7532 - acc: 0.7345\n",
            "Epoch 5/5\n",
            "10000/10000 [==============================] - 2s 213us/step - loss: 0.5927 - acc: 0.8274\n",
            "10000/10000 [==============================] - 12s 1ms/step\n",
            "\n",
            "Test Acc: 0.8229\n"
          ],
          "name": "stdout"
        }
      ]
    },
    {
      "metadata": {
        "id": "4tLCEXpn5eqb",
        "colab_type": "code",
        "colab": {
          "base_uri": "https://localhost:8080/",
          "height": 244
        },
        "outputId": "b31314fd-cfc2-4e11-9709-d5957b204234"
      },
      "cell_type": "code",
      "source": [
        "test('relu', 'lecun_normal')"
      ],
      "execution_count": 29,
      "outputs": [
        {
          "output_type": "stream",
          "text": [
            "Epoch 1/5\n",
            "10000/10000 [==============================] - 22s 2ms/step - loss: 2.3022 - acc: 0.1082\n",
            "Epoch 2/5\n",
            "10000/10000 [==============================] - 1s 137us/step - loss: 2.3008 - acc: 0.1127\n",
            "Epoch 3/5\n",
            "10000/10000 [==============================] - 1s 135us/step - loss: 2.3008 - acc: 0.1127\n",
            "Epoch 4/5\n",
            "10000/10000 [==============================] - 1s 137us/step - loss: 2.3004 - acc: 0.1127\n",
            "Epoch 5/5\n",
            "10000/10000 [==============================] - 1s 135us/step - loss: 2.3005 - acc: 0.1127\n",
            "10000/10000 [==============================] - 11s 1ms/step\n",
            "\n",
            "Test Acc: 0.1135\n"
          ],
          "name": "stdout"
        }
      ]
    }
  ]
}
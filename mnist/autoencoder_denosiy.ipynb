{
  "nbformat": 4,
  "nbformat_minor": 0,
  "metadata": {
    "colab": {
      "name": "Untitled0.ipynb",
      "version": "0.3.2",
      "provenance": [],
      "collapsed_sections": [],
      "include_colab_link": true
    },
    "kernelspec": {
      "name": "python3",
      "display_name": "Python 3"
    },
    "accelerator": "GPU"
  },
  "cells": [
    {
      "cell_type": "markdown",
      "metadata": {
        "id": "view-in-github",
        "colab_type": "text"
      },
      "source": [
        "<a href=\"https://colab.research.google.com/github/duTianze/machine-learning/blob/master/autoencoder_denosiy.ipynb\" target=\"_parent\"><img src=\"https://colab.research.google.com/assets/colab-badge.svg\" alt=\"Open In Colab\"/></a>"
      ]
    },
    {
      "metadata": {
        "id": "xRlwPmdpWJT_",
        "colab_type": "code",
        "colab": {}
      },
      "cell_type": "code",
      "source": [
        "from IPython.display import Image, SVG\n",
        "import matplotlib.pyplot as plt\n",
        "\n",
        "%matplotlib inline\n",
        "\n",
        "import numpy as np\n",
        "import keras\n",
        "from keras.datasets import mnist\n",
        "from keras.models import Model, Sequential\n",
        "from keras.layers import Input, Dense, Conv2D, MaxPooling2D, UpSampling2D, Flatten, Reshape\n",
        "from keras import regularizers"
      ],
      "execution_count": 0,
      "outputs": []
    },
    {
      "metadata": {
        "id": "_5CwahKHDIan",
        "colab_type": "code",
        "colab": {}
      },
      "cell_type": "code",
      "source": [
        "# Loads the training and test data sets (ignoring class labels)\n",
        "(x_train, _), (x_test, _) = mnist.load_data()\n",
        "\n",
        "# Scales the training and test data to range between 0 and 1.\n",
        "max_value = float(x_train.max())\n",
        "x_train = x_train.astype('float32') / max_value\n",
        "x_test = x_test.astype('float32') / max_value"
      ],
      "execution_count": 0,
      "outputs": []
    },
    {
      "metadata": {
        "id": "LfbkPFpvWMTw",
        "colab_type": "code",
        "colab": {
          "base_uri": "https://localhost:8080/",
          "height": 34
        },
        "outputId": "531d015f-130a-4ec3-a9dd-bd71232e1cd1"
      },
      "cell_type": "code",
      "source": [
        "x_train.shape, x_test.shape"
      ],
      "execution_count": 28,
      "outputs": [
        {
          "output_type": "execute_result",
          "data": {
            "text/plain": [
              "((60000, 28, 28), (10000, 28, 28))"
            ]
          },
          "metadata": {
            "tags": []
          },
          "execution_count": 28
        }
      ]
    },
    {
      "metadata": {
        "id": "Gwl7h3JKWWCs",
        "colab_type": "code",
        "outputId": "702dff13-8aa0-4f71-b771-37af9faf625a",
        "colab": {
          "base_uri": "https://localhost:8080/",
          "height": 34
        }
      },
      "cell_type": "code",
      "source": [
        "x_train = x_train.reshape((len(x_train), 28, 28, 1))\n",
        "x_test = x_test.reshape((len(x_test), 28, 28, 1))\n",
        "\n",
        "(x_train.shape, x_test.shape)"
      ],
      "execution_count": 29,
      "outputs": [
        {
          "output_type": "execute_result",
          "data": {
            "text/plain": [
              "((60000, 28, 28, 1), (10000, 28, 28, 1))"
            ]
          },
          "metadata": {
            "tags": []
          },
          "execution_count": 29
        }
      ]
    },
    {
      "metadata": {
        "id": "XnfkW5eDE3il",
        "colab_type": "code",
        "colab": {
          "base_uri": "https://localhost:8080/",
          "height": 437
        },
        "outputId": "8157478f-91a4-44fe-cd2f-cb73e1f75c0e"
      },
      "cell_type": "code",
      "source": [
        "autoencoder = Sequential()\n",
        "\n",
        "# Encoder Layers\n",
        "autoencoder.add(Conv2D(32, (3, 3), activation='relu', padding='same', input_shape=x_train.shape[1:]))\n",
        "autoencoder.add(MaxPooling2D((2, 2), padding='same'))\n",
        "autoencoder.add(Conv2D(32, (3, 3), activation='relu', padding='same'))\n",
        "autoencoder.add(MaxPooling2D((2, 2), padding='same'))\n",
        "\n",
        "# Decoder Layers\n",
        "autoencoder.add(Conv2D(32, (3, 3), activation='relu', padding='same'))\n",
        "autoencoder.add(UpSampling2D((2, 2)))\n",
        "autoencoder.add(Conv2D(32, (3, 3), activation='relu', padding='same'))\n",
        "autoencoder.add(UpSampling2D((2, 2)))\n",
        "autoencoder.add(Conv2D(1, (3, 3), activation='sigmoid', padding='same'))\n",
        "\n",
        "autoencoder.summary()\n"
      ],
      "execution_count": 36,
      "outputs": [
        {
          "output_type": "stream",
          "text": [
            "_________________________________________________________________\n",
            "Layer (type)                 Output Shape              Param #   \n",
            "=================================================================\n",
            "conv2d_27 (Conv2D)           (None, 28, 28, 32)        320       \n",
            "_________________________________________________________________\n",
            "max_pooling2d_10 (MaxPooling (None, 14, 14, 32)        0         \n",
            "_________________________________________________________________\n",
            "conv2d_28 (Conv2D)           (None, 14, 14, 32)        9248      \n",
            "_________________________________________________________________\n",
            "max_pooling2d_11 (MaxPooling (None, 7, 7, 32)          0         \n",
            "_________________________________________________________________\n",
            "conv2d_29 (Conv2D)           (None, 7, 7, 32)          9248      \n",
            "_________________________________________________________________\n",
            "up_sampling2d_12 (UpSampling (None, 14, 14, 32)        0         \n",
            "_________________________________________________________________\n",
            "conv2d_30 (Conv2D)           (None, 14, 14, 32)        9248      \n",
            "_________________________________________________________________\n",
            "up_sampling2d_13 (UpSampling (None, 28, 28, 32)        0         \n",
            "_________________________________________________________________\n",
            "conv2d_31 (Conv2D)           (None, 28, 28, 1)         289       \n",
            "=================================================================\n",
            "Total params: 28,353\n",
            "Trainable params: 28,353\n",
            "Non-trainable params: 0\n",
            "_________________________________________________________________\n"
          ],
          "name": "stdout"
        }
      ]
    },
    {
      "metadata": {
        "id": "skDO02czMq1a",
        "colab_type": "code",
        "colab": {}
      },
      "cell_type": "code",
      "source": [
        "x_train_noisy = x_train + np.random.normal(loc=0.0, scale=0.5, size=x_train.shape)\n",
        "x_train_noisy = np.clip(x_train_noisy, 0., 1.)\n",
        "\n",
        "x_test_noisy = x_test + np.random.normal(loc=0.0, scale=0.5, size=x_test.shape)\n",
        "x_test_noisy = np.clip(x_test_noisy, 0., 1.)"
      ],
      "execution_count": 0,
      "outputs": []
    },
    {
      "metadata": {
        "id": "Jb-hyF7WFStv",
        "colab_type": "code",
        "colab": {
          "base_uri": "https://localhost:8080/",
          "height": 722
        },
        "outputId": "7647e861-3c88-45da-cc47-cd90e03bd431"
      },
      "cell_type": "code",
      "source": [
        "autoencoder.compile(optimizer='adam', loss='binary_crossentropy')\n",
        "autoencoder.fit(x_train_noisy, x_train,\n",
        "                epochs=20,\n",
        "                batch_size=128,\n",
        "                validation_data=(x_test_noisy, x_test))"
      ],
      "execution_count": 39,
      "outputs": [
        {
          "output_type": "stream",
          "text": [
            "Train on 60000 samples, validate on 10000 samples\n",
            "Epoch 1/20\n",
            "60000/60000 [==============================] - 8s 137us/step - loss: 0.0969 - val_loss: 0.0960\n",
            "Epoch 2/20\n",
            "60000/60000 [==============================] - 7s 122us/step - loss: 0.0966 - val_loss: 0.0957\n",
            "Epoch 3/20\n",
            "60000/60000 [==============================] - 7s 123us/step - loss: 0.0964 - val_loss: 0.0956\n",
            "Epoch 4/20\n",
            "60000/60000 [==============================] - 7s 124us/step - loss: 0.0962 - val_loss: 0.0954\n",
            "Epoch 5/20\n",
            "60000/60000 [==============================] - 8s 127us/step - loss: 0.0960 - val_loss: 0.0952\n",
            "Epoch 6/20\n",
            "60000/60000 [==============================] - 8s 126us/step - loss: 0.0959 - val_loss: 0.0951\n",
            "Epoch 7/20\n",
            "60000/60000 [==============================] - 7s 124us/step - loss: 0.0958 - val_loss: 0.0951\n",
            "Epoch 8/20\n",
            "60000/60000 [==============================] - 7s 124us/step - loss: 0.0956 - val_loss: 0.0950\n",
            "Epoch 9/20\n",
            "60000/60000 [==============================] - 8s 127us/step - loss: 0.0955 - val_loss: 0.0952\n",
            "Epoch 10/20\n",
            "60000/60000 [==============================] - 7s 125us/step - loss: 0.0954 - val_loss: 0.0948\n",
            "Epoch 11/20\n",
            "60000/60000 [==============================] - 7s 125us/step - loss: 0.0953 - val_loss: 0.0947\n",
            "Epoch 12/20\n",
            "60000/60000 [==============================] - 7s 124us/step - loss: 0.0953 - val_loss: 0.0948\n",
            "Epoch 13/20\n",
            "60000/60000 [==============================] - 8s 125us/step - loss: 0.0952 - val_loss: 0.0947\n",
            "Epoch 14/20\n",
            "60000/60000 [==============================] - 8s 126us/step - loss: 0.0951 - val_loss: 0.0947\n",
            "Epoch 15/20\n",
            "60000/60000 [==============================] - 7s 124us/step - loss: 0.0950 - val_loss: 0.0945\n",
            "Epoch 16/20\n",
            "60000/60000 [==============================] - 7s 125us/step - loss: 0.0950 - val_loss: 0.0945\n",
            "Epoch 17/20\n",
            "60000/60000 [==============================] - 7s 125us/step - loss: 0.0949 - val_loss: 0.0951\n",
            "Epoch 18/20\n",
            "60000/60000 [==============================] - 7s 125us/step - loss: 0.0949 - val_loss: 0.0944\n",
            "Epoch 19/20\n",
            "60000/60000 [==============================] - 7s 124us/step - loss: 0.0948 - val_loss: 0.0944\n",
            "Epoch 20/20\n",
            "60000/60000 [==============================] - 8s 126us/step - loss: 0.0947 - val_loss: 0.0943\n"
          ],
          "name": "stdout"
        },
        {
          "output_type": "execute_result",
          "data": {
            "text/plain": [
              "<keras.callbacks.History at 0x7fd9a5dcee10>"
            ]
          },
          "metadata": {
            "tags": []
          },
          "execution_count": 39
        }
      ]
    },
    {
      "metadata": {
        "id": "nHclXJKIKgsG",
        "colab_type": "code",
        "colab": {
          "base_uri": "https://localhost:8080/",
          "height": 235
        },
        "outputId": "02f36bd1-5f70-4c6c-8867-56a9b45a0a1d"
      },
      "cell_type": "code",
      "source": [
        "num_images = 10\n",
        "np.random.seed(42)\n",
        "random_test_images = np.random.randint(x_test.shape[0], size=num_images)\n",
        "x_test_denoised = autoencoder.predict(x_test_noisy)\n",
        "plt.figure(figsize=(18, 4))\n",
        "\n",
        "for i, image_idx in enumerate(random_test_images):\n",
        "    # plot original image\n",
        "    ax = plt.subplot(2, num_images, i + 1)\n",
        "    plt.imshow(x_test_noisy[image_idx].reshape(28, 28))\n",
        "    plt.gray()\n",
        "    ax.get_xaxis().set_visible(False)\n",
        "    ax.get_yaxis().set_visible(False)\n",
        "    \n",
        "    # plot reconstructed image\n",
        "    ax = plt.subplot(2, num_images, num_images + i + 1)\n",
        "    plt.imshow(x_test_denoised[image_idx].reshape(28, 28))\n",
        "    plt.gray()\n",
        "    ax.get_xaxis().set_visible(False)\n",
        "    ax.get_yaxis().set_visible(False)\n",
        "plt.show()"
      ],
      "execution_count": 41,
      "outputs": [
        {
          "output_type": "display_data",
          "data": {
            "image/png": "[encoded data removed]",
            "text/plain": [
              "<matplotlib.figure.Figure at 0x7fd9a5db86d8>"
            ]
          },
          "metadata": {
            "tags": []
          }
        }
      ]
    }
  ]
}
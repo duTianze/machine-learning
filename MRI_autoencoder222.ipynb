{
  "nbformat": 4,
  "nbformat_minor": 0,
  "metadata": {
    "colab": {
      "name": "MRI_autoencoder.ipynb",
      "version": "0.3.2",
      "provenance": [],
      "collapsed_sections": [
        "GLlQ-iV77MWY",
        "e5UrXXw-9HfF",
        "J6eaaMxQ9huU"
      ],
      "include_colab_link": true
    },
    "kernelspec": {
      "name": "python3",
      "display_name": "Python 3"
    },
    "accelerator": "GPU"
  },
  "cells": [
    {
      "cell_type": "markdown",
      "metadata": {
        "id": "view-in-github",
        "colab_type": "text"
      },
      "source": [
        "<a href=\"https://colab.research.google.com/github/duTianze/machine-learning/blob/master/MRI_autoencoder222.ipynb\" target=\"_parent\"><img src=\"https://colab.research.google.com/assets/colab-badge.svg\" alt=\"Open In Colab\"/></a>"
      ]
    },
    {
      "metadata": {
        "id": "GLlQ-iV77MWY",
        "colab_type": "text"
      },
      "cell_type": "markdown",
      "source": [
        "### 下载数据"
      ]
    },
    {
      "metadata": {
        "id": "GzcSYuO66qfw",
        "colab_type": "code",
        "colab": {
          "base_uri": "https://localhost:8080/",
          "height": 224
        },
        "outputId": "bee43f42-247b-4018-8f33-f6c606797a9d"
      },
      "cell_type": "code",
      "source": [
        "!pip3 install kaggle"
      ],
      "execution_count": 1,
      "outputs": [
        {
          "output_type": "stream",
          "text": [
            "Requirement already satisfied: kaggle in /usr/local/lib/python3.6/dist-packages (1.5.3)\n",
            "Requirement already satisfied: urllib3<1.25,>=1.21.1 in /usr/local/lib/python3.6/dist-packages (from kaggle) (1.22)\n",
            "Requirement already satisfied: six>=1.10 in /usr/local/lib/python3.6/dist-packages (from kaggle) (1.11.0)\n",
            "Requirement already satisfied: certifi in /usr/local/lib/python3.6/dist-packages (from kaggle) (2019.3.9)\n",
            "Requirement already satisfied: python-dateutil in /usr/local/lib/python3.6/dist-packages (from kaggle) (2.5.3)\n",
            "Requirement already satisfied: requests in /usr/local/lib/python3.6/dist-packages (from kaggle) (2.18.4)\n",
            "Requirement already satisfied: tqdm in /usr/local/lib/python3.6/dist-packages (from kaggle) (4.28.1)\n",
            "Requirement already satisfied: python-slugify in /usr/local/lib/python3.6/dist-packages (from kaggle) (3.0.1)\n",
            "Requirement already satisfied: chardet<3.1.0,>=3.0.2 in /usr/local/lib/python3.6/dist-packages (from requests->kaggle) (3.0.4)\n",
            "Requirement already satisfied: idna<2.7,>=2.5 in /usr/local/lib/python3.6/dist-packages (from requests->kaggle) (2.6)\n",
            "Requirement already satisfied: text-unidecode==1.2 in /usr/local/lib/python3.6/dist-packages (from python-slugify->kaggle) (1.2)\n"
          ],
          "name": "stdout"
        }
      ]
    },
    {
      "metadata": {
        "id": "KEXbmdXe7UmD",
        "colab_type": "code",
        "colab": {
          "base_uri": "https://localhost:8080/",
          "height": 289
        },
        "outputId": "8686de9f-faaf-4608-c904-a0db59460b3d"
      },
      "cell_type": "code",
      "source": [
        "!kaggle"
      ],
      "execution_count": 2,
      "outputs": [
        {
          "output_type": "stream",
          "text": [
            "Traceback (most recent call last):\n",
            "  File \"/usr/local/bin/kaggle\", line 11, in <module>\n",
            "    load_entry_point('kaggle==1.5.3', 'console_scripts', 'kaggle')()\n",
            "  File \"/usr/local/lib/python2.7/dist-packages/pkg_resources/__init__.py\", line 489, in load_entry_point\n",
            "    return get_distribution(dist).load_entry_point(group, name)\n",
            "  File \"/usr/local/lib/python2.7/dist-packages/pkg_resources/__init__.py\", line 2793, in load_entry_point\n",
            "    return ep.load()\n",
            "  File \"/usr/local/lib/python2.7/dist-packages/pkg_resources/__init__.py\", line 2411, in load\n",
            "    return self.resolve()\n",
            "  File \"/usr/local/lib/python2.7/dist-packages/pkg_resources/__init__.py\", line 2417, in resolve\n",
            "    module = __import__(self.module_name, fromlist=['__name__'], level=0)\n",
            "  File \"/usr/local/lib/python2.7/dist-packages/kaggle/__init__.py\", line 23, in <module>\n",
            "    api.authenticate()\n",
            "  File \"/usr/local/lib/python2.7/dist-packages/kaggle/api/kaggle_api_extended.py\", line 116, in authenticate\n",
            "    self.config_file, self.config_dir))\n",
            "IOError: Could not find kaggle.json. Make sure it's located in /root/.kaggle. Or use the environment method.\n"
          ],
          "name": "stdout"
        }
      ]
    },
    {
      "metadata": {
        "id": "ISa3YOrX7Xcl",
        "colab_type": "code",
        "colab": {}
      },
      "cell_type": "code",
      "source": [
        "!echo \"{\\\"username\\\":\\\"dutianze\\\",\\\"key\\\":\\\"ff2944c6219d449b37460827c4414422\\\"}\" > /root/.kaggle/kaggle.json"
      ],
      "execution_count": 0,
      "outputs": []
    },
    {
      "metadata": {
        "id": "ZPxhh6hj7anh",
        "colab_type": "code",
        "colab": {
          "base_uri": "https://localhost:8080/",
          "height": 34
        },
        "outputId": "263b6c04-0ba4-4ede-b8cc-bc60147e820c"
      },
      "cell_type": "code",
      "source": [
        "!more /root/.kaggle/kaggle.json"
      ],
      "execution_count": 4,
      "outputs": [
        {
          "output_type": "stream",
          "text": [
            "{\"username\":\"dutianze\",\"key\":\"ff2944c6219d449b37460827c4414422\"}\n"
          ],
          "name": "stdout"
        }
      ]
    },
    {
      "metadata": {
        "id": "Y2ahO9v47nAs",
        "colab_type": "code",
        "colab": {
          "base_uri": "https://localhost:8080/",
          "height": 105
        },
        "outputId": "76a86abc-ba42-465d-ab54-188f1135450e"
      },
      "cell_type": "code",
      "source": [
        "!kaggle datasets download -d dutianze/mri-dataset"
      ],
      "execution_count": 5,
      "outputs": [
        {
          "output_type": "stream",
          "text": [
            "Warning: Your Kaggle API key is readable by other users on this system! To fix this, you can run 'chmod 600 /root/.kaggle/kaggle.json'\n",
            "Downloading mri-dataset.zip to /content\n",
            " 99% 1.09G/1.10G [00:26<00:00, 42.5MB/s]\n",
            "100% 1.10G/1.10G [00:26<00:00, 44.1MB/s]\n"
          ],
          "name": "stdout"
        }
      ]
    },
    {
      "metadata": {
        "id": "o13RD0He7wPO",
        "colab_type": "code",
        "colab": {
          "base_uri": "https://localhost:8080/",
          "height": 153
        },
        "outputId": "05d0a9da-8c06-4bb9-af4a-06b5c18b7a1e"
      },
      "cell_type": "code",
      "source": [
        "!apt-get install zip"
      ],
      "execution_count": 6,
      "outputs": [
        {
          "output_type": "stream",
          "text": [
            "Reading package lists... Done\n",
            "Building dependency tree       \n",
            "Reading state information... Done\n",
            "zip is already the newest version (3.0-11build1).\n",
            "The following package was automatically installed and is no longer required:\n",
            "  libnvidia-common-410\n",
            "Use 'apt autoremove' to remove it.\n",
            "0 upgraded, 0 newly installed, 0 to remove and 6 not upgraded.\n"
          ],
          "name": "stdout"
        }
      ]
    },
    {
      "metadata": {
        "id": "POKiQr9r7zE5",
        "colab_type": "code",
        "colab": {}
      },
      "cell_type": "code",
      "source": [
        "!unzip -q ./mri-dataset.zip"
      ],
      "execution_count": 0,
      "outputs": []
    },
    {
      "metadata": {
        "id": "e5UrXXw-9HfF",
        "colab_type": "text"
      },
      "cell_type": "markdown",
      "source": [
        "###创建generate"
      ]
    },
    {
      "metadata": {
        "id": "-f4Ru9Kk9MhO",
        "colab_type": "code",
        "colab": {}
      },
      "cell_type": "code",
      "source": [
        "import nibabel as nib\n",
        "import os\n",
        "import numpy as np\n",
        "import matplotlib.pyplot as plt\n",
        "%matplotlib inline"
      ],
      "execution_count": 0,
      "outputs": []
    },
    {
      "metadata": {
        "id": "KYqBjKAh9RZ5",
        "colab_type": "code",
        "colab": {}
      },
      "cell_type": "code",
      "source": [
        "def muti(f1, f2):\n",
        "    return f1*f2\n",
        "  \n",
        "def process(np_train, fname, index):\n",
        "    mark_dir = os.path.join('./train/groundtruth')\n",
        "    head_mark = 'mask_c'\n",
        "    sub_name = fname[1:]\n",
        "    mark = head_mark + sub_name\n",
        "    \n",
        "    file_mark = os.path.join(mark_dir, mark)\n",
        "    data = nib.load(file_mark).get_fdata()\n",
        "    np_data = np.rollaxis(data, 2, 0)\n",
        "    \n",
        "    mp_marked = muti(np_data[index], np_train)\n",
        "    return mp_marked\n",
        "  \n",
        "  \n",
        "def generate_data(directory, batch_size):\n",
        "    i = 0\n",
        "    size = 880\n",
        "    skip = False\n",
        "    file_list = os.listdir(directory)\n",
        "    while True:\n",
        "        for b in range(batch_size):\n",
        "            if i == len(file_list):\n",
        "                i = 0\n",
        "                random.shuffle(file_list)\n",
        "            sample = file_list[i]\n",
        "            i += 1\n",
        "            \n",
        "            file_dir = os.path.join(directory, sample)\n",
        "            data  = nib.load(file_dir).get_fdata()\n",
        "            np_data = np.rollaxis(data, 2, 0)\n",
        "                \n",
        "            train_batch = np.zeros((batch_size*12, np_data.shape[1], np_data.shape[2]), dtype=np.int)\n",
        "            label_batch = np.zeros((batch_size*12, np_data.shape[1], np_data.shape[2]), dtype=np.int)\n",
        "\n",
        "            for i in range(12):\n",
        "                train_batch[i] = np_data[i]\n",
        "                label_batch[i] = process(np_data[i], sample, i)\n",
        "        if skip:\n",
        "            continue\n",
        "        train_batch = train_batch.reshape((len(train_batch), size, size, 1))\n",
        "        label_batch = label_batch.reshape((len(label_batch), size, size, 1))\n",
        "        yield train_batch, label_batch"
      ],
      "execution_count": 0,
      "outputs": []
    },
    {
      "metadata": {
        "id": "J6eaaMxQ9huU",
        "colab_type": "text"
      },
      "cell_type": "markdown",
      "source": [
        "### 创建模型"
      ]
    },
    {
      "metadata": {
        "id": "khutW9Ur9uZ0",
        "colab_type": "code",
        "colab": {}
      },
      "cell_type": "code",
      "source": [
        "from IPython.display import Image, SVG\n",
        "import matplotlib.pyplot as plt\n",
        "\n",
        "%matplotlib inline\n",
        "\n",
        "import numpy as np\n",
        "import keras\n",
        "from keras.datasets import mnist\n",
        "from keras.models import Model, Sequential\n",
        "from keras.layers import Input, Dense, Conv2D, MaxPooling2D, UpSampling2D, Flatten, Reshape\n",
        "from keras import regularizers"
      ],
      "execution_count": 0,
      "outputs": []
    },
    {
      "metadata": {
        "id": "eNQgdH2ZAkP_",
        "colab_type": "code",
        "colab": {
          "base_uri": "https://localhost:8080/",
          "height": 442
        },
        "outputId": "7b3f536d-e670-4e23-ff98-0d476ee0a85e"
      },
      "cell_type": "code",
      "source": [
        "autoencoder = Sequential()\n",
        "\n",
        "# Encoder Layers\n",
        "autoencoder.add(Conv2D(32, (3, 3), activation='relu', padding='same', input_shape=(880, 880, 1)))\n",
        "autoencoder.add(MaxPooling2D((2, 2), padding='same'))\n",
        "autoencoder.add(Conv2D(32, (3, 3), activation='relu', padding='same'))\n",
        "autoencoder.add(MaxPooling2D((2, 2), padding='same'))\n",
        "\n",
        "# Decoder Layers\n",
        "autoencoder.add(Conv2D(32, (3, 3), activation='relu', padding='same'))\n",
        "autoencoder.add(UpSampling2D((2, 2)))\n",
        "autoencoder.add(Conv2D(32, (3, 3), activation='relu', padding='same'))\n",
        "autoencoder.add(UpSampling2D((2, 2)))\n",
        "autoencoder.add(Conv2D(1, (3, 3), activation='sigmoid', padding='same'))\n",
        "\n",
        "autoencoder.summary()"
      ],
      "execution_count": 135,
      "outputs": [
        {
          "output_type": "stream",
          "text": [
            "_________________________________________________________________\n",
            "Layer (type)                 Output Shape              Param #   \n",
            "=================================================================\n",
            "conv2d_21 (Conv2D)           (None, 880, 880, 32)      320       \n",
            "_________________________________________________________________\n",
            "max_pooling2d_9 (MaxPooling2 (None, 440, 440, 32)      0         \n",
            "_________________________________________________________________\n",
            "conv2d_22 (Conv2D)           (None, 440, 440, 32)      9248      \n",
            "_________________________________________________________________\n",
            "max_pooling2d_10 (MaxPooling (None, 220, 220, 32)      0         \n",
            "_________________________________________________________________\n",
            "conv2d_23 (Conv2D)           (None, 220, 220, 32)      9248      \n",
            "_________________________________________________________________\n",
            "up_sampling2d_9 (UpSampling2 (None, 440, 440, 32)      0         \n",
            "_________________________________________________________________\n",
            "conv2d_24 (Conv2D)           (None, 440, 440, 32)      9248      \n",
            "_________________________________________________________________\n",
            "up_sampling2d_10 (UpSampling (None, 880, 880, 32)      0         \n",
            "_________________________________________________________________\n",
            "conv2d_25 (Conv2D)           (None, 880, 880, 1)       289       \n",
            "=================================================================\n",
            "Total params: 28,353\n",
            "Trainable params: 28,353\n",
            "Non-trainable params: 0\n",
            "_________________________________________________________________\n"
          ],
          "name": "stdout"
        }
      ]
    },
    {
      "metadata": {
        "id": "ZuFa0eydMYRD",
        "colab_type": "text"
      },
      "cell_type": "markdown",
      "source": [
        "### 训练模型"
      ]
    },
    {
      "metadata": {
        "id": "OuBKqRbPMbZv",
        "colab_type": "code",
        "colab": {
          "base_uri": "https://localhost:8080/",
          "height": 153
        },
        "outputId": "11287079-958f-43b8-9cbf-9869524b1d8e"
      },
      "cell_type": "code",
      "source": [
        "train_generator = generate_data('./train/image', 1)\n",
        "\n",
        "autoencoder.compile(optimizer='adam', loss='binary_crossentropy')\n",
        "\n",
        "history = autoencoder.fit_generator(train_generator,\n",
        "steps_per_epoch=20,\n",
        "epochs=100,\n",
        "verbose=1)"
      ],
      "execution_count": 0,
      "outputs": [
        {
          "output_type": "stream",
          "text": [
            "/usr/local/lib/python3.6/dist-packages/keras/utils/data_utils.py:651: DeprecationWarning: `wait_time` is not used anymore.\n",
            "  DeprecationWarning)\n"
          ],
          "name": "stderr"
        },
        {
          "output_type": "stream",
          "text": [
            "Epoch 1/100\n",
            "20/20 [==============================] - 41s 2s/step - loss: -419.1882\n",
            "Epoch 2/100\n",
            "20/20 [==============================] - 39s 2s/step - loss: -465.8162\n",
            "Epoch 3/100\n",
            "14/20 [====================>.........] - ETA: 11s - loss: -466.2900"
          ],
          "name": "stdout"
        }
      ]
    },
    {
      "metadata": {
        "id": "W4F-UbVjTR2H",
        "colab_type": "code",
        "colab": {}
      },
      "cell_type": "code",
      "source": [
        "import nibabel as nib\n",
        "import os\n",
        "import numpy as np\n",
        "import matplotlib.pyplot as plt\n",
        "%matplotlib inline"
      ],
      "execution_count": 0,
      "outputs": []
    },
    {
      "metadata": {
        "id": "cfPGTo02fw2e",
        "colab_type": "code",
        "colab": {}
      },
      "cell_type": "code",
      "source": [
        "import nibabel as nib\n",
        "import os\n",
        "import numpy as np\n",
        "import matplotlib.pyplot as plt\n",
        "%matplotlib inline\n",
        "file_list = os.listdir('./train/image')\n",
        "for i in range(len(file_list)):\n",
        "  f = os.path.join('./train/image', file_list[66])\n",
        "  data  = nib.load(f).get_fdata()\n",
        "  print(data.shape)"
      ],
      "execution_count": 0,
      "outputs": []
    },
    {
      "metadata": {
        "id": "Tu2UzGHlTZoX",
        "colab_type": "code",
        "colab": {}
      },
      "cell_type": "code",
      "source": [
        "file_list = os.listdir('./train/image')\n",
        "f = os.path.join('./train/image', file_list[66])\n",
        "data  = nib.load(f).get_fdata()\n",
        "np_data = np.rollaxis(data, 2, 0)\n",
        "test = np_data[5]\n",
        "test2 = test.reshape(-1,880,880,1)"
      ],
      "execution_count": 0,
      "outputs": []
    },
    {
      "metadata": {
        "id": "BwVfxzvLeNFf",
        "colab_type": "code",
        "colab": {}
      },
      "cell_type": "code",
      "source": [
        "predict = autoencoder.predict(test2)"
      ],
      "execution_count": 0,
      "outputs": []
    },
    {
      "metadata": {
        "id": "MH_oPcWVVnpy",
        "colab_type": "code",
        "colab": {}
      },
      "cell_type": "code",
      "source": [
        "predict2 = predict.reshape(880,880)"
      ],
      "execution_count": 0,
      "outputs": []
    },
    {
      "metadata": {
        "id": "S8b6iPbJewQj",
        "colab_type": "code",
        "colab": {
          "base_uri": "https://localhost:8080/",
          "height": 34
        },
        "outputId": "c45467d7-45dd-47a5-f791-c083846f8b02"
      },
      "cell_type": "code",
      "source": [
        "test.shape"
      ],
      "execution_count": 160,
      "outputs": [
        {
          "output_type": "execute_result",
          "data": {
            "text/plain": [
              "(880, 880)"
            ]
          },
          "metadata": {
            "tags": []
          },
          "execution_count": 160
        }
      ]
    },
    {
      "metadata": {
        "id": "ybQaPvy3UIk0",
        "colab_type": "code",
        "colab": {
          "base_uri": "https://localhost:8080/",
          "height": 316
        },
        "outputId": "d106f318-4c4c-49bf-f099-6c1983571999"
      },
      "cell_type": "code",
      "source": [
        "plt.figure(figsize=(10,10)) \n",
        "plt.subplot(221)\n",
        "plt.imshow(test, cmap='gray')\n",
        "plt.subplot(222)\n",
        "plt.imshow(predict2, cmap='gray')"
      ],
      "execution_count": 161,
      "outputs": [
        {
          "output_type": "execute_result",
          "data": {
            "text/plain": [
              "<matplotlib.image.AxesImage at 0x7fd626624668>"
            ]
          },
          "metadata": {
            "tags": []
          },
          "execution_count": 161
        },
        {
          "output_type": "display_data",
          "data": {
            "image/png": "[encoded data removed]",
            "text/plain": [
              "<Figure size 720x720 with 2 Axes>"
            ]
          },
          "metadata": {
            "tags": []
          }
        }
      ]
    }
  ]
}